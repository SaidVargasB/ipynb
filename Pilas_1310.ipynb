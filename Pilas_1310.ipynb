{
  "nbformat": 4,
  "nbformat_minor": 0,
  "metadata": {
    "colab": {
      "name": "Pilas_1310.ipynb",
      "provenance": [],
      "authorship_tag": "ABX9TyP2SIRzzXjqcyxA2ljGq2uc",
      "include_colab_link": true
    },
    "kernelspec": {
      "name": "python3",
      "display_name": "Python 3"
    },
    "language_info": {
      "name": "python"
    }
  },
  "cells": [
    {
      "cell_type": "markdown",
      "metadata": {
        "id": "view-in-github",
        "colab_type": "text"
      },
      "source": [
        "<a href=\"https://colab.research.google.com/github/SaidVargasB/ipynb/blob/circleci-project-setup/Pilas_1310.ipynb\" target=\"_parent\"><img src=\"https://colab.research.google.com/assets/colab-badge.svg\" alt=\"Open In Colab\"/></a>"
      ]
    },
    {
      "cell_type": "code",
      "metadata": {
        "id": "PiMbAJLuM6xi"
      },
      "source": [
        "class StackADT:\n",
        "    def __init__( self ):\n",
        "        self.__data = list()\n",
        "\n",
        "    #   Regresar True si la pila está vacía\n",
        "    def is_empty( self ):\n",
        "        return len( self.__data) == 0\n",
        "\n",
        "    def get_length( self ):\n",
        "        return len( self.__data )\n",
        "\n",
        "    def pop( self ):\n",
        "        if self.is_empty():\n",
        "            print(\"Pila está vacía, nada que sacar\")\n",
        "        else:\n",
        "            return self.__data.pop()\n",
        "\n",
        "    def peek( self ):    #Regresa elemento que está en el tope sin quitarlo / una copia\n",
        "        if self.is_empty():\n",
        "            print(\"Pila está vacía, nada que sacar\")\n",
        "        else:\n",
        "             return self.__data[ - 1 ]\n",
        "    \n",
        "    def push( self , value ):\n",
        "        self.__data.append( value )\n",
        "    \n",
        "    def to_string( self ):\n",
        "        for item in self.__data[::-1]:\n",
        "            print(f\"| { item } | \")\n",
        "\n",
        "\n",
        "\n"
      ],
      "execution_count": 6,
      "outputs": []
    },
    {
      "cell_type": "code",
      "metadata": {
        "colab": {
          "base_uri": "https://localhost:8080/"
        },
        "id": "2T6sHyE0Qj4I",
        "outputId": "28ad491e-1652-4efe-8907-c76324b3aab9"
      },
      "source": [
        "pila = StackADT()\n",
        "print(\"Esta vacía? =\" , pila.is_empty() )\n",
        "print(\"# elementos: \" ,pila.get_length() )\n",
        "pila.push(10)\n",
        "print(\"Esta vacía? =\" , pila.is_empty() )\n",
        "print(\"# elementos: \" ,pila.get_length() )\n",
        "pila.push(20)\n",
        "pila.push(30)\n",
        "pila.push(40)\n",
        "pila.to_string()\n",
        "print( pila.pop() ) #40\n",
        "print(pila.peek())\n",
        "pila.to_string()"
      ],
      "execution_count": 7,
      "outputs": [
        {
          "output_type": "stream",
          "name": "stdout",
          "text": [
            "Esta vacía? = True\n",
            "# elementos:  0\n",
            "Esta vacía? = False\n",
            "# elementos:  1\n",
            "| 40 | \n",
            "| 30 | \n",
            "| 20 | \n",
            "| 10 | \n",
            "40\n",
            "30\n",
            "| 30 | \n",
            "| 20 | \n",
            "| 10 | \n"
          ]
        }
      ]
    },
    {
      "cell_type": "markdown",
      "metadata": {
        "id": "Rn9YvLoGyogS"
      },
      "source": [
        "#Aplicación de pilas, balanceo de llaves en programación"
      ]
    },
    {
      "cell_type": "code",
      "metadata": {
        "colab": {
          "base_uri": "https://localhost:8080/"
        },
        "id": "5hGY8vkjynnT",
        "outputId": "4e52e3fd-3a97-48aa-a4ef-75836c6a7270"
      },
      "source": [
        "!cat prog.txt"
      ],
      "execution_count": 3,
      "outputs": [
        {
          "output_type": "stream",
          "name": "stdout",
          "text": [
            "#include <stdio.h>\r\n",
            "int main()\r\n",
            "{\r\n",
            "    int num, count, sum = 0;\r\n",
            "\r\n",
            "    printf(\"Enter a positive integer: \");\r\n",
            "    scanf(\"%d\", &num);\r\n",
            "\r\n",
            "    // for loop terminates when num is less than count\r\n",
            "    for(count = 1; count <= num; ++count)\r\n",
            "    {\r\n",
            "        sum += count;\r\n",
            "    }\r\n",
            "\r\n",
            "    printf(\"Sum = %d\", sum);\r\n",
            "\r\n",
            "    return 0;\r\n",
            "}"
          ]
        }
      ]
    },
    {
      "cell_type": "code",
      "metadata": {
        "colab": {
          "base_uri": "https://localhost:8080/"
        },
        "id": "stDjZa8Pz0Ww",
        "outputId": "8b0c73ce-b002-45d4-9cd5-4fe227f8bce2"
      },
      "source": [
        "entrada = open('prog.txt' , 'rt')\n",
        "codigo = entrada.read()\n",
        "#print(codigo)\n",
        "pilaControl = StackADT()\n",
        "pilaControl.push(\"#\")  #  <---- Caracter de pila vacía\n",
        "\n",
        "for letra in codigo:\n",
        "    #print(f\"---> { letra } <---\")\n",
        "    if letra == '{':\n",
        "        pilaControl.push(\"{\")\n",
        "    elif letra == '}':\n",
        "        basura = pilaControl.pop()\n",
        "    else:\n",
        "        pass\n",
        "\n",
        "#   NOTA: Este código aún no contempla desbalanceo de más llaves de cierre\n",
        "\n",
        "if pilaControl.peek() == '#':\n",
        "    print(\"El código proporcionado está correctamente proporcionado\")\n",
        "else:\n",
        "    print(\"El código no está balanceado en llaves {y} \")\n",
        "#1.- Hacer unprograma que impemente el algoritmo de pila vacía para verificar \n",
        "#balanceo de llaves ( '{' y '}') y \n",
        "#balanceo de parénteisis ( '(' y ')') para codigo de programacion C y, C++ y Java\n",
        "#Tiene que detener el análisis cuando se detcte que los parecentesis o llaves estan desbalanceados\n",
        "#Idealmente (No obligatorio) encapsular esta lógica en una clase (ADT) de la POO\n"
      ],
      "execution_count": 12,
      "outputs": [
        {
          "output_type": "stream",
          "name": "stdout",
          "text": [
            "El código proporcionado está correctamente proporcionado\n"
          ]
        }
      ]
    },
    {
      "cell_type": "markdown",
      "metadata": {
        "id": "bfVW24Vs7VyR"
      },
      "source": [
        "#Aplicación de Pilas \n",
        "- Estrategias de diseño de algoritmos BACKTRACKING"
      ]
    },
    {
      "cell_type": "code",
      "metadata": {
        "id": "GXL9hvGO7gHv"
      },
      "source": [
        ""
      ],
      "execution_count": null,
      "outputs": []
    }
  ]
}