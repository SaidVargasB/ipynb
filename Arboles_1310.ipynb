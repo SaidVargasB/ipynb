{
  "nbformat": 4,
  "nbformat_minor": 0,
  "metadata": {
    "colab": {
      "name": "Árboles_1310.ipynb",
      "provenance": [],
      "authorship_tag": "ABX9TyMtlqSmTMECi33elrwHE60o",
      "include_colab_link": true
    },
    "kernelspec": {
      "name": "python3",
      "display_name": "Python 3"
    },
    "language_info": {
      "name": "python"
    }
  },
  "cells": [
    {
      "cell_type": "markdown",
      "metadata": {
        "id": "view-in-github",
        "colab_type": "text"
      },
      "source": [
        "<a href=\"https://colab.research.google.com/github/SaidVargasB/ipynb/blob/circleci-project-setup/Arboles_1310.ipynb\" target=\"_parent\"><img src=\"https://colab.research.google.com/assets/colab-badge.svg\" alt=\"Open In Colab\"/></a>"
      ]
    },
    {
      "cell_type": "code",
      "metadata": {
        "id": "mBelLGP0Cn9c"
      },
      "source": [
        "class NodoBinario:\n",
        "    def __init__( self , value , left=None , right=None ):\n",
        "        self.data = value\n",
        "        self.left = left\n",
        "        self.right = right\n",
        "\n",
        "class NodoTernario:\n",
        "    def __init__( self , value , left=None , center=None, right=None ):\n",
        "        self.data = value\n",
        "        self.left = left\n",
        "        self.center = center\n",
        "        self.right = right\n"
      ],
      "execution_count": 23,
      "outputs": []
    },
    {
      "cell_type": "code",
      "metadata": {
        "colab": {
          "base_uri": "https://localhost:8080/"
        },
        "id": "FN53yansDyt0",
        "outputId": "4cdb7faa-0708-4c75-a253-322b553a0d65"
      },
      "source": [
        "arbol1 = NodoBinario(\"R\" , NodoBinario(\"C\") , NodoBinario(\"H\"))\n",
        "print(arbol1.right.data)\n",
        "\n",
        "arbol2 = NodoTernario(4, NodoTernario(3,\\\n",
        "        NodoTernario(5,left=NodoTernario(2)),\\\n",
        "        NodoTernario(5),NodoTernario(2)) , None ,NodoTernario(5))\n",
        "print(arbol2.left.right.data)\n",
        "print(arbol2.data)\n",
        "print(arbol2.left.center.data)\n",
        "print(arbol2.right.left)\n",
        "print(arbol2.left.left.left.data)\n",
        "print(\"----Imprimir el mismo sin usar la palabra left----\")\n",
        "print(\"-------Opción 1-------\")\n",
        "ejemplo = arbol2.left.left.left.data\n",
        "print(ejemplo)\n",
        "print(\"-------Opcion 2------\")\n",
        "aux = arbol2\n",
        "while( aux.left != None):\n",
        "    aux = aux.left\n",
        "print( aux.data )\n",
        "\n"
      ],
      "execution_count": 24,
      "outputs": [
        {
          "output_type": "stream",
          "name": "stdout",
          "text": [
            "H\n",
            "2\n",
            "4\n",
            "5\n",
            "None\n",
            "2\n",
            "----Imprimir el mismo sin usar la palabra left----\n",
            "-------Opción 1-------\n",
            "2\n",
            "-------Opcion 2------\n",
            "2\n"
          ]
        }
      ]
    },
    {
      "cell_type": "code",
      "metadata": {
        "colab": {
          "base_uri": "https://localhost:8080/"
        },
        "id": "xeTDbr-XHOSQ",
        "outputId": "7db008dc-87c4-45a6-c04e-136f7a10e40a"
      },
      "source": [
        "root = NodoBinario(\"Santi\",None,NodoBinario(\"Jesus\",NodoBinario(\"Pedro\",None,NodoBinario(\" Pedro jr\"))))\n",
        "print(root.right.left.right.data)"
      ],
      "execution_count": 25,
      "outputs": [
        {
          "output_type": "stream",
          "name": "stdout",
          "text": [
            " Pedro jr\n"
          ]
        }
      ]
    }
  ]
}