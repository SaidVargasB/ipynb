{
  "nbformat": 4,
  "nbformat_minor": 0,
  "metadata": {
    "colab": {
      "name": "Ejercicio_1.ipynb",
      "provenance": [],
      "mount_file_id": "1Q41BU62rNa56sxwtVx8Q4zux6pUhIRzg",
      "authorship_tag": "ABX9TyNhUcBxuR/8ZYDrKiC6jxCf",
      "include_colab_link": true
    },
    "kernelspec": {
      "name": "python3",
      "display_name": "Python 3"
    },
    "language_info": {
      "name": "python"
    }
  },
  "cells": [
    {
      "cell_type": "markdown",
      "metadata": {
        "id": "view-in-github",
        "colab_type": "text"
      },
      "source": [
        "<a href=\"https://colab.research.google.com/github/SaidVargasB/ipynb/blob/circleci-project-setup/Ejercicio_1.ipynb\" target=\"_parent\"><img src=\"https://colab.research.google.com/assets/colab-badge.svg\" alt=\"Open In Colab\"/></a>"
      ]
    },
    {
      "cell_type": "code",
      "metadata": {
        "colab": {
          "base_uri": "https://localhost:8080/"
        },
        "id": "K8f4skrDmOp1",
        "outputId": "c779c7a6-e226-4e04-ad91-9b764d300ec5"
      },
      "source": [
        "#!ls -la \n",
        "!cat junio.dat"
      ],
      "execution_count": null,
      "outputs": [
        {
          "output_type": "stream",
          "name": "stdout",
          "text": [
            "numero de trabajador, nombres, paterno, materno, horas extra, sueldo base, año de ingreso\r\n",
            "2345,CARLOS,PEREZ,CASTILLO,0,9850,2017\r\n",
            "5754,ANGEL,GOMEZ,GARRIDO,1,9850,2020\r\n",
            "5345,JESUS,MARTIN,SANTOS,2,9850,2016\r\n",
            "3267,DAVID,JIMENEZ,LOZANO,2,9850,2017\r\n",
            "8765,PEDRO,RUIZ,GUERRERO,2,9850,2017\r\n",
            "5454,DANIEL,HERNANDEZ,CANO,3,9850,2018\r\n",
            "3456,ALEJANDRO,DIAZ,PRIETO,2,9850,2018\r\n",
            "3445,MARIA,MORENO,MENDEZ,1,9850,2018\r\n",
            "9088,ALBERTO,MU�OZ,CRUZ,1,9850,2017\r\n",
            "8877,RAFAEL,ALVAREZ,FLORES,2,9850,2017\r\n",
            "6767,FERNANDO,ROMERO,HERRERA,4,9850,2019\r\n",
            "5654,PABLO,ALONSO,GALLEGO,1,9850,2019\r\n",
            "4323,JORGE,GUTIERREZ,MARQUEZ,2,9850,2020\r\n",
            "2232,RAMON,NAVARRO,LEON,1,9850,2016"
          ]
        }
      ]
    },
    {
      "cell_type": "code",
      "metadata": {
        "colab": {
          "base_uri": "https://localhost:8080/"
        },
        "id": "XoHQrc8Fm9xE",
        "outputId": "8b421463-4781-4441-da8c-b81425d5d3ef"
      },
      "source": [
        "archivo = open( 'junio.dat', 'rt' , encoding='latin-1')\n",
        "print( archivo.read() )"
      ],
      "execution_count": null,
      "outputs": [
        {
          "output_type": "stream",
          "name": "stdout",
          "text": [
            "numero de trabajador, nombres, paterno, materno, horas extra, sueldo base, aÃ±o de ingreso\n",
            "2345,CARLOS,PEREZ,CASTILLO,0,9850,2017\n",
            "5754,ANGEL,GOMEZ,GARRIDO,1,9850,2020\n",
            "5345,JESUS,MARTIN,SANTOS,2,9850,2016\n",
            "3267,DAVID,JIMENEZ,LOZANO,2,9850,2017\n",
            "8765,PEDRO,RUIZ,GUERRERO,2,9850,2017\n",
            "5454,DANIEL,HERNANDEZ,CANO,3,9850,2018\n",
            "3456,ALEJANDRO,DIAZ,PRIETO,2,9850,2018\n",
            "3445,MARIA,MORENO,MENDEZ,1,9850,2018\n",
            "9088,ALBERTO,MUOZ,CRUZ,1,9850,2017\n",
            "8877,RAFAEL,ALVAREZ,FLORES,2,9850,2017\n",
            "6767,FERNANDO,ROMERO,HERRERA,4,9850,2019\n",
            "5654,PABLO,ALONSO,GALLEGO,1,9850,2019\n",
            "4323,JORGE,GUTIERREZ,MARQUEZ,2,9850,2020\n",
            "2232,RAMON,NAVARRO,LEON,1,9850,2016\n"
          ]
        }
      ]
    },
    {
      "cell_type": "code",
      "metadata": {
        "id": "z4XNXyYrn-jK"
      },
      "source": [
        "class Trabajador:\n",
        "  def __init__ ( self, nt, nom, pat, mat, he, sb, ai ):\n",
        "    self.__numero_trabajador = nt\n",
        "    self.__nombre_trabajaro = nom\n",
        "    self.__apellido_paterno = pat\n",
        "    self.__apellido_materno = mat\n",
        "    self.__horas_extra = he\n",
        "    self.__sueldo_base = sb\n",
        "    self.__anio_ingreso = ai\n",
        "\n",
        "   #Aquí van los métodos de acceso\n",
        "   #get set "
      ],
      "execution_count": null,
      "outputs": []
    },
    {
      "cell_type": "code",
      "metadata": {
        "id": "3cuODuNNqDUV"
      },
      "source": [
        "class NominaADT:\n",
        "    def __init__( self, ruta_archivo ):\n",
        "        #Abrir el archivo y determinar el numero de empleados (14 empleados)\n",
        "        self.__data = Array( num_emp)\n",
        "    def calcular_sueldos( self ):\n",
        "        #iterar sobre el Array y hacer el calculo de sueldos \n",
        "    def buscar_mas_antguo( self ):\n",
        "        #Iterar y buscará en el array el de mayor antiguedad\n",
        "    def buscar_menor_antiguedad( self ):\n",
        "        "
      ],
      "execution_count": null,
      "outputs": []
    }
  ]
}