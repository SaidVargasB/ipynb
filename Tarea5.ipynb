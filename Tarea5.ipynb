{
  "nbformat": 4,
  "nbformat_minor": 0,
  "metadata": {
    "colab": {
      "name": "Tarea5.ipynb",
      "provenance": [],
      "mount_file_id": "1Q41BU62rNa56sxwtVx8Q4zux6pUhIRzg",
      "authorship_tag": "ABX9TyPokWhVXrzVcA9S8Mvtlfn+",
      "include_colab_link": true
    },
    "kernelspec": {
      "name": "python3",
      "display_name": "Python 3"
    },
    "language_info": {
      "name": "python"
    }
  },
  "cells": [
    {
      "cell_type": "markdown",
      "metadata": {
        "id": "view-in-github",
        "colab_type": "text"
      },
      "source": [
        "<a href=\"https://colab.research.google.com/github/SaidVargasB/ipynb/blob/circleci-project-setup/Tarea5.ipynb\" target=\"_parent\"><img src=\"https://colab.research.google.com/assets/colab-badge.svg\" alt=\"Open In Colab\"/></a>"
      ]
    },
    {
      "cell_type": "code",
      "metadata": {
        "colab": {
          "base_uri": "https://localhost:8080/"
        },
        "id": "LGQAZdUp3W7d",
        "outputId": "dbd4858b-8a49-44be-af80-d8f87d2540f8"
      },
      "source": [
        "class Array:\n",
        "  def __init__( self , tam ):\n",
        "    self.__tamanio = tam\n",
        "    self.__data = [ 0 for x in range(self.__tamanio) ] #Generador de listas\n",
        "\n",
        "  def to_string( self ):\n",
        "    info = \"\"\n",
        "    for dato in self.__data:\n",
        "      info = info + str(dato) + \"|\"\n",
        "    return info\n",
        "\n",
        "  def get_item( self , index ):\n",
        "    return self.__data[index]\n",
        "  \n",
        "  def get_length( self ):\n",
        "    return len( self.__data )\n",
        "\n",
        "  def set_item( self , dato , index ):\n",
        "    #Hace falta revisar limites\n",
        "    if index >= 0 and index < self.get_length():\n",
        "      self.__data[index] = dato\n",
        "    else:\n",
        "      print(\"Error: indice fuera de rango\")\n",
        "    \n",
        "  def clear( self , dato ):\n",
        "    self.__data = [ dato for x in range(self.__tamanio) ]\n",
        "\n",
        "ejemplo = Array(20)\n",
        "print( ejemplo.to_string() )\n",
        "\n",
        "print( ejemplo.get_item(2) )\n",
        "\n",
        "ejemplo.set_item( 45 , 2 )\n",
        "print( ejemplo.to_string() )\n",
        "\n",
        "\n",
        "ejemplo.clear( 4 )\n",
        "print( ejemplo.to_string() )\n",
        "\n",
        "print( ejemplo.get_length() )"
      ],
      "execution_count": 59,
      "outputs": [
        {
          "output_type": "stream",
          "name": "stdout",
          "text": [
            "0|0|0|0|0|0|0|0|0|0|0|0|0|0|0|0|0|0|0|0|\n",
            "0\n",
            "0|0|45|0|0|0|0|0|0|0|0|0|0|0|0|0|0|0|0|0|\n",
            "4|4|4|4|4|4|4|4|4|4|4|4|4|4|4|4|4|4|4|4|\n",
            "20\n"
          ]
        }
      ]
    },
    {
      "cell_type": "code",
      "metadata": {
        "colab": {
          "base_uri": "https://localhost:8080/"
        },
        "id": "K8f4skrDmOp1",
        "outputId": "1a360a71-0923-4b18-d8a3-475769e81ae6"
      },
      "source": [
        "#!ls -la \n",
        "!cat junio.dat"
      ],
      "execution_count": 58,
      "outputs": [
        {
          "output_type": "stream",
          "name": "stdout",
          "text": [
            "numero de trabajador,nombres,paterno,materno,horas extra,sueldo base,año de ingreso\r\n",
            "2345,CARLOS,PEREZ,CASTILLO,1,9850,2017\r\n",
            "5754,ANGEL,GOMEZ,GARRIDO,1,9850,2020\r\n",
            "5345,JESUS,MARTIN,SANTOS,2,9850,2016\r\n",
            "3267,DAVID,JIMENEZ,LOZANO,2,9850,2017\r\n",
            "8765,PEDRO,RUIZ,GUERRERO,2,9850,2017\r\n",
            "5454,DANIEL,HERNANDEZ,CANO,3,9850,2018\r\n",
            "3456,ALEJANDRO,DIAZ,PRIETO,2,9850,2018\r\n",
            "3445,MARIA,MORENO,MENDEZ,1,9850,2018\r\n",
            "9088,ALBERTO,MUNIOZ,CRUZ,1,9850,2017\r\n",
            "8877,RAFAEL,ALVAREZ,FLORES,2,9850,2017\r\n",
            "6767,FERNANDO,ROMERO,HERRERA,4,9850,2019\r\n",
            "5654,PABLO,ALONSO,GALLEGO,1,9850,2019\r\n",
            "4323,JORGE,GUTIERREZ,MARQUEZ,2,9850,2020\r\n",
            "2232,RAMON,NAVARRO,LEON,1,9850,2016\r\n"
          ]
        }
      ]
    },
    {
      "cell_type": "code",
      "metadata": {
        "colab": {
          "base_uri": "https://localhost:8080/"
        },
        "id": "XoHQrc8Fm9xE",
        "outputId": "86b1e57d-49e3-4391-89eb-ca3832750483"
      },
      "source": [
        "archivo = open( 'junio.dat', 'rt' , encoding='latin-1')\n",
        "print( archivo.readlines() )"
      ],
      "execution_count": 60,
      "outputs": [
        {
          "output_type": "stream",
          "name": "stdout",
          "text": [
            "['numero de trabajador,nombres,paterno,materno,horas extra,sueldo base,aÃ±o de ingreso\\n', '2345,CARLOS,PEREZ,CASTILLO,1,9850,2017\\n', '5754,ANGEL,GOMEZ,GARRIDO,1,9850,2020\\n', '5345,JESUS,MARTIN,SANTOS,2,9850,2016\\n', '3267,DAVID,JIMENEZ,LOZANO,2,9850,2017\\n', '8765,PEDRO,RUIZ,GUERRERO,2,9850,2017\\n', '5454,DANIEL,HERNANDEZ,CANO,3,9850,2018\\n', '3456,ALEJANDRO,DIAZ,PRIETO,2,9850,2018\\n', '3445,MARIA,MORENO,MENDEZ,1,9850,2018\\n', '9088,ALBERTO,MUNIOZ,CRUZ,1,9850,2017\\n', '8877,RAFAEL,ALVAREZ,FLORES,2,9850,2017\\n', '6767,FERNANDO,ROMERO,HERRERA,4,9850,2019\\n', '5654,PABLO,ALONSO,GALLEGO,1,9850,2019\\n', '4323,JORGE,GUTIERREZ,MARQUEZ,2,9850,2020\\n', '2232,RAMON,NAVARRO,LEON,1,9850,2016\\n']\n"
          ]
        }
      ]
    },
    {
      "cell_type": "code",
      "metadata": {
        "colab": {
          "base_uri": "https://localhost:8080/"
        },
        "id": "m4oi-7JgFizW",
        "outputId": "66b050d6-9e72-4bc6-fb7a-dc27625e5c9e"
      },
      "source": [
        "class Trabajador:\n",
        "    def __init__ ( self, nt, nom, pat, mat, he, sb, ai ):\n",
        "      self.__numero_trabajador = nt\n",
        "      self.__nombre = nom\n",
        "      self.__paterno = pat\n",
        "      self.__materno = mat\n",
        "      self.__horas_extra = he\n",
        "      self.__sueldo_base = sb\n",
        "      self.__anio_ingreso = ai \n",
        "    #Métodos de acceso\n",
        "    def set_numero_trabajador( self , nt ):\n",
        "        self.__numero_trabajador = nt \n",
        "   \n",
        "    def get_numero_trabajador( self ):\n",
        "        return self.__numero_trabajador\n",
        "    \n",
        "    def set_nombre( self , nom ):\n",
        "        self.__nombre = nom \n",
        "   \n",
        "    def get_nombre( self ):\n",
        "        return self.__nombre\n",
        "    \n",
        "    def set_paterno( self , pat ):\n",
        "        self.__paterno = pat \n",
        "   \n",
        "    def get_paterno( self ):\n",
        "        return self.__paterno\n",
        "  \n",
        "    def set_materno( self , mat ):\n",
        "        self.__materno = mat \n",
        "   \n",
        "    def get_materno( self ):\n",
        "        return self.__materno\n",
        "\n",
        "    def set_horas_extra( self , he ):\n",
        "        self.__horas_extra = he \n",
        "   \n",
        "    def get_horas_extra( self ):\n",
        "        return self.__horas_extra\n",
        "\n",
        "    def set_sueldo_base( self , sb ):\n",
        "        self.__sueldo_base = sb \n",
        "    \n",
        "    def get_sueldo_base( self ):\n",
        "        return self.__sueldo_base\n",
        "\n",
        "    def set_nombre( self , nom ):\n",
        "        self.__nombre = nt \n",
        "    def get_nombre( self ):\n",
        "        return self.__nombre\n",
        "\n",
        "    def set_anio_ingreso( self , ai ):\n",
        "        self.__anio_ingreso = ai \n",
        "    def get_anio_ingreso( self ):\n",
        "        return self.__anio_ingreso\n",
        "#Métodos de uso general\n",
        "\n",
        "    def calcular_sueldo_mensual( self ):\n",
        "        anios = 2021 - self.get_anio_ingreso()\n",
        "\n",
        "        sueldo = self.get_sueldo_base()\n",
        "        #Horas extra\n",
        "        sueldo += self.get_horas_extra() * 276.5\n",
        "        #Prestación Antiguedad\n",
        "        sueldo = sueldo + ( sueldo * anios * 0.03 )\n",
        "        return sueldo\n",
        "    def to_string( self ):\n",
        "        return \"Núm. Trabajador: \" + str(self.__numero_trabajador) + \", Nombre Completo: \" + self.__nombre + \" \" + self.__paterno + \" \" + self.__materno + \", Horas Extra: \" + str(self.__horas_extra) +  \", Sueldo Final: $\"+ str(self.calcular_sueldo_mensual()) + \", Año Ingreso: \" + str(self.__anio_ingreso)\n",
        "    def calcular_atiguedad( self ):\n",
        "        return 2021 - self.get_anio_ingreso()\n",
        "\n",
        "emp = Trabajador( 2345, 'CARLOS', 'PEREZ' , 'CASTILLO',1,9850,2017 )\n",
        "print(emp.get_sueldo_base())\n",
        "print(emp.get_horas_extra())\n",
        "print(emp.calcular_atiguedad())\n",
        "print(emp.to_string())\n"
      ],
      "execution_count": 61,
      "outputs": [
        {
          "output_type": "stream",
          "name": "stdout",
          "text": [
            "9850\n",
            "1\n",
            "4\n",
            "Núm. Trabajador: 2345, Nombre Completo: CARLOS PEREZ CASTILLO, Horas Extra: 1, Sueldo Final: $11341.68, Año Ingreso: 2017\n"
          ]
        }
      ]
    },
    {
      "cell_type": "code",
      "metadata": {
        "colab": {
          "base_uri": "https://localhost:8080/",
          "height": 443
        },
        "id": "U1qY409zCy_9",
        "outputId": "9124cd48-ec7b-47b0-8bc4-cf3ad1e3f7f2"
      },
      "source": [
        "class NominaADT:\n",
        "    def __init__( self , ruta_archivo ):\n",
        "        archivo = open( ruta_archivo , 'rt' , encoding='latin-1')\n",
        "        empleados = archivo.readlines()\n",
        "        del empleados[0]\n",
        "        for index in range(len(empleados)):\n",
        "            empleados[index] = empleados[index].strip().split(',')\n",
        "        self.__data=Array( len(empleados) )\n",
        "        cont = 0\n",
        "        for emp in empleados:\n",
        "            tmp = Trabajador( int(emp[0]) , emp[1] , emp[2] , (emp[3]) , int(emp[4]) , int(emp[5]) , int(emp[6]) )\n",
        "            self.__data.set_item( tmp , cont )\n",
        "            cont += 1\n",
        "    \n",
        "    def buscar_mas_antiguo( self , ruta_archivo ):\n",
        "        archivo = open( ruta_archivo , 'rt' , encoding='latin-1')\n",
        "        empleados = archivo.readlines()\n",
        "        del empleados[0]\n",
        "        for index in range(len(empleados)):\n",
        "            empleados[index] = empleados[index].strip().split(',')\n",
        "        self.__data=Array( len(empleados) )\n",
        "\n",
        "        menor = 0\n",
        "        mayor = 0\n",
        "        for emp in empleados:\n",
        "            lista = Trabajador( int(emp[6]))\n",
        "            self.__data.set_item( lista , mayor , menor )\n",
        "        menor = 0\n",
        "        mayor = 0\n",
        "        for anio in lista:\n",
        "            if menor==0 and mayor==0:\n",
        "                menor=anio\n",
        "                mayor=anio  \n",
        "        else:\n",
        "            if anio<menor:\n",
        "                menor=anio \n",
        "            if anio>mayor:\n",
        "                mayor=anio \n",
        "        \n",
        "        print(\"Más antiguo(s): \" + self.__nombre + mayor )\n",
        "        print(\"Menos antiguo(s): \" + self.__nombre + menor)\n",
        "\n",
        "    def calcular_sueldos( self ):\n",
        "        for index in range(self.__data.get_length()):\n",
        "            print(self.__data.get_item(index).to_string())\n",
        "\n",
        "ejemplo = NominaADT('junio.dat')\n",
        "ejemplo.calcular_sueldos()\n",
        "print(ejemplo.buscar_mas_antiguo())"
      ],
      "execution_count": 119,
      "outputs": [
        {
          "output_type": "stream",
          "name": "stdout",
          "text": [
            "Núm. Trabajador: 2345, Nombre Completo: CARLOS PEREZ CASTILLO, Horas Extra: 1, Sueldo Final: $11341.68, Año Ingreso: 2017\n",
            "Núm. Trabajador: 5754, Nombre Completo: ANGEL GOMEZ GARRIDO, Horas Extra: 1, Sueldo Final: $10430.295, Año Ingreso: 2020\n",
            "Núm. Trabajador: 5345, Nombre Completo: JESUS MARTIN SANTOS, Horas Extra: 2, Sueldo Final: $11963.45, Año Ingreso: 2016\n",
            "Núm. Trabajador: 3267, Nombre Completo: DAVID JIMENEZ LOZANO, Horas Extra: 2, Sueldo Final: $11651.36, Año Ingreso: 2017\n",
            "Núm. Trabajador: 8765, Nombre Completo: PEDRO RUIZ GUERRERO, Horas Extra: 2, Sueldo Final: $11651.36, Año Ingreso: 2017\n",
            "Núm. Trabajador: 5454, Nombre Completo: DANIEL HERNANDEZ CANO, Horas Extra: 3, Sueldo Final: $11640.655, Año Ingreso: 2018\n",
            "Núm. Trabajador: 3456, Nombre Completo: ALEJANDRO DIAZ PRIETO, Horas Extra: 2, Sueldo Final: $11339.27, Año Ingreso: 2018\n",
            "Núm. Trabajador: 3445, Nombre Completo: MARIA MORENO MENDEZ, Horas Extra: 1, Sueldo Final: $11037.885, Año Ingreso: 2018\n",
            "Núm. Trabajador: 9088, Nombre Completo: ALBERTO MUNIOZ CRUZ, Horas Extra: 1, Sueldo Final: $11341.68, Año Ingreso: 2017\n",
            "Núm. Trabajador: 8877, Nombre Completo: RAFAEL ALVAREZ FLORES, Horas Extra: 2, Sueldo Final: $11651.36, Año Ingreso: 2017\n",
            "Núm. Trabajador: 6767, Nombre Completo: FERNANDO ROMERO HERRERA, Horas Extra: 4, Sueldo Final: $11613.36, Año Ingreso: 2019\n",
            "Núm. Trabajador: 5654, Nombre Completo: PABLO ALONSO GALLEGO, Horas Extra: 1, Sueldo Final: $10734.09, Año Ingreso: 2019\n",
            "Núm. Trabajador: 4323, Nombre Completo: JORGE GUTIERREZ MARQUEZ, Horas Extra: 2, Sueldo Final: $10715.09, Año Ingreso: 2020\n",
            "Núm. Trabajador: 2232, Nombre Completo: RAMON NAVARRO LEON, Horas Extra: 1, Sueldo Final: $11645.475, Año Ingreso: 2016\n"
          ]
        },
        {
          "output_type": "error",
          "ename": "TypeError",
          "evalue": "ignored",
          "traceback": [
            "\u001b[0;31m---------------------------------------------------------------------------\u001b[0m",
            "\u001b[0;31mTypeError\u001b[0m                                 Traceback (most recent call last)",
            "\u001b[0;32m<ipython-input-119-3c590b70c7d1>\u001b[0m in \u001b[0;36m<module>\u001b[0;34m()\u001b[0m\n\u001b[1;32m     47\u001b[0m \u001b[0mejemplo\u001b[0m \u001b[0;34m=\u001b[0m \u001b[0mNominaADT\u001b[0m\u001b[0;34m(\u001b[0m\u001b[0;34m'junio.dat'\u001b[0m\u001b[0;34m)\u001b[0m\u001b[0;34m\u001b[0m\u001b[0;34m\u001b[0m\u001b[0m\n\u001b[1;32m     48\u001b[0m \u001b[0mejemplo\u001b[0m\u001b[0;34m.\u001b[0m\u001b[0mcalcular_sueldos\u001b[0m\u001b[0;34m(\u001b[0m\u001b[0;34m)\u001b[0m\u001b[0;34m\u001b[0m\u001b[0;34m\u001b[0m\u001b[0m\n\u001b[0;32m---> 49\u001b[0;31m \u001b[0mprint\u001b[0m\u001b[0;34m(\u001b[0m\u001b[0mejemplo\u001b[0m\u001b[0;34m.\u001b[0m\u001b[0mbuscar_mas_antiguo\u001b[0m\u001b[0;34m(\u001b[0m\u001b[0;34m)\u001b[0m\u001b[0;34m)\u001b[0m\u001b[0;34m\u001b[0m\u001b[0;34m\u001b[0m\u001b[0m\n\u001b[0m",
            "\u001b[0;31mTypeError\u001b[0m: buscar_mas_antiguo() missing 1 required positional argument: 'ruta_archivo'"
          ]
        }
      ]
    }
  ]
}