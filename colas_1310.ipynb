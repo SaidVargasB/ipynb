{
  "nbformat": 4,
  "nbformat_minor": 0,
  "metadata": {
    "colab": {
      "name": "colas_1310.ipynb",
      "provenance": [],
      "authorship_tag": "ABX9TyNQxBnc+K7zedKPueGulLkH",
      "include_colab_link": true
    },
    "kernelspec": {
      "name": "python3",
      "display_name": "Python 3"
    },
    "language_info": {
      "name": "python"
    }
  },
  "cells": [
    {
      "cell_type": "markdown",
      "metadata": {
        "id": "view-in-github",
        "colab_type": "text"
      },
      "source": [
        "<a href=\"https://colab.research.google.com/github/SaidVargasB/ipynb/blob/circleci-project-setup/colas_1310.ipynb\" target=\"_parent\"><img src=\"https://colab.research.google.com/assets/colab-badge.svg\" alt=\"Open In Colab\"/></a>"
      ]
    },
    {
      "cell_type": "code",
      "metadata": {
        "id": "FEhWdLPJKR1-"
      },
      "source": [
        "class Queue:\n",
        "    def __init__( self ):\n",
        "        self.data = []\n",
        "\n",
        "    def is_empty( self ):\n",
        "        return len( self.data ) == 0\n",
        "\n",
        "    def length( self ):\n",
        "        return len( self.data )\n",
        "\n",
        "    def enqueue( self , value ):\n",
        "        self.data.append( value )\n",
        "\n",
        "    def dequeue( self ):\n",
        "        self.data.pop(0)\n",
        "    \n",
        "    def to_string( self ):\n",
        "        for elem in self.data:\n",
        "            print(f\"| { elem }| <-- \" , end=\"\" )\n",
        "        print(\"\")"
      ],
      "execution_count": 23,
      "outputs": []
    },
    {
      "cell_type": "code",
      "metadata": {
        "colab": {
          "base_uri": "https://localhost:8080/"
        },
        "id": "gpQrWeihNvE1",
        "outputId": "f4cefc8a-f978-4abe-e297-2a5c6097ab9e"
      },
      "source": [
        "cola = Queue()\n",
        "print(\"Esta vacio??: \" , cola.is_empty())\n",
        "print(\"Numero de elementos = \" , cola.length() )\n",
        "cola.enqueue(10)\n",
        "cola.enqueue(20)\n",
        "cola.enqueue(30)\n",
        "print(\"Esta vacio??: \" , cola.is_empty())\n",
        "print(\"Numero de elementos = \" , cola.length() )\n",
        "cola.enqueue(40)\n",
        "cola.enqueue(50)\n",
        "cola.enqueue(60)\n",
        "cola.to_string()\n",
        "siguiente = cola.dequeue()\n",
        "print(\"Atendiendo a:\" , siguiente)\n",
        "cola.to_string()\n"
      ],
      "execution_count": 24,
      "outputs": [
        {
          "output_type": "stream",
          "name": "stdout",
          "text": [
            "Esta vacio??:  True\n",
            "Numero de elementos =  0\n",
            "Esta vacio??:  False\n",
            "Numero de elementos =  3\n",
            "| 10| <-- | 20| <-- | 30| <-- | 40| <-- | 50| <-- | 60| <-- \n",
            "Atendiendo a: None\n",
            "| 20| <-- | 30| <-- | 40| <-- | 50| <-- | 60| <-- \n"
          ]
        }
      ]
    },
    {
      "cell_type": "markdown",
      "metadata": {
        "id": "xiY_66aYQkAy"
      },
      "source": [
        "#Variantes del ADT Cola\n",
        "1. Circulares\n",
        "2. Prioridad\n",
        "    1. Acotada \n",
        "    2. No Acotada \n"
      ]
    },
    {
      "cell_type": "code",
      "metadata": {
        "id": "zcqHxUtMBile"
      },
      "source": [
        "#Implementación de la cola prioridad acotada\n",
        "class BoundedPriorityQueue:\n",
        "    def __init__( self , niveles ):\n",
        "        self.__data = [ Queue() for x in range(niveles) ]  #Generador ; Lista en cola con número de niveles ; listas con Python\n",
        "        #self.__data = Array(niveles)                      #Implementando Array\n",
        "        #self.__data.clear(Queue() )                       #Implementando con arreglos\n",
        "        self.__size = 0 #Numero de elementos implementando estructuras\n",
        "    \n",
        "    def is_empty( self ):\n",
        "        return self.__size == 0\n",
        "\n",
        "    def length( self ):\n",
        "        return self.__size\n",
        "\n",
        "    def enqueue( self , prioridad , elem ):\n",
        "        if prioridad < len( self.__data ) \\\n",
        "            and prioridad >= 0:\n",
        "            self.__data[ prioridad ].enqueue( elem )\n",
        "            self.__size += 1\n",
        "\n",
        "    def dequeue( self ):\n",
        "        nivel = 0\n",
        "        while self.__data[nivel].is_empty() \\\n",
        "            and nivel < self.length():\n",
        "          nivel +=1\n",
        "        \n",
        "        if nivel >= self.length():\n",
        "            print(\"Cola está vacía\")\n",
        "        else:\n",
        "            return self.__data[ nivel ].dequeue()\n",
        "\n",
        "    def to_string( self ):\n",
        "        prioridad = 0\n",
        "        for cola in self.__data:\n",
        "            print(f\"Prioridad {prioridad} ->\" , end=\"\")\n",
        "            if not cola.is_empty():\n",
        "                cola.to_string()\n",
        "                prioridad += 1\n",
        "\n",
        "    "
      ],
      "execution_count": 25,
      "outputs": []
    },
    {
      "cell_type": "code",
      "metadata": {
        "colab": {
          "base_uri": "https://localhost:8080/"
        },
        "id": "mO3vLGwKM-Mo",
        "outputId": "c4395c6d-3c10-4384-e602-8ec88c800296"
      },
      "source": [
        "#   Prueba de la cola con prioridad\n",
        "salvavidas = BoundedPriorityQueue( 7 )\n",
        "salvavidas.enqueue( 4 , \"Maestre\")\n",
        "salvavidas.enqueue( 1 , \"Niños\")\n",
        "salvavidas.enqueue( 4 , \"Mecánico\")\n",
        "salvavidas.enqueue( 3 , \"Mujeres\")\n",
        "salvavidas.enqueue( 2 , \"Tercera edad\")\n",
        "salvavidas.enqueue( 1 , \"Niñas\")\n",
        "salvavidas.enqueue( 3 , \"Hombres\")\n",
        "salvavidas.enqueue( 4 , \"Vigia\")\n",
        "salvavidas.enqueue( 5 , \"Capitán\")\n",
        "salvavidas.enqueue( 4 , \"Timonel\")\n",
        "salvavidas.to_string()\n",
        "print(\".-.-.-.-.-.-.-.-.-.-.-.-.-.-.-\")\n",
        "sig = salvavidas.dequeue()\n",
        "print(f\"Subiendo { sig } al bote salvavidas!!\")\n",
        "salvavidas.to_string()\n"
      ],
      "execution_count": 26,
      "outputs": [
        {
          "output_type": "stream",
          "name": "stdout",
          "text": [
            "Prioridad 0 ->Prioridad 0 ->| Niños| <-- | Niñas| <-- \n",
            "Prioridad 1 ->| Tercera edad| <-- \n",
            "Prioridad 2 ->| Mujeres| <-- | Hombres| <-- \n",
            "Prioridad 3 ->| Maestre| <-- | Mecánico| <-- | Vigia| <-- | Timonel| <-- \n",
            "Prioridad 4 ->| Capitán| <-- \n",
            "Prioridad 5 ->.-.-.-.-.-.-.-.-.-.-.-.-.-.-.-\n",
            "Subiendo None al bote salvavidas!!\n",
            "Prioridad 0 ->Prioridad 0 ->| Niñas| <-- \n",
            "Prioridad 1 ->| Tercera edad| <-- \n",
            "Prioridad 2 ->| Mujeres| <-- | Hombres| <-- \n",
            "Prioridad 3 ->| Maestre| <-- | Mecánico| <-- | Vigia| <-- | Timonel| <-- \n",
            "Prioridad 4 ->| Capitán| <-- \n",
            "Prioridad 5 ->"
          ]
        }
      ]
    },
    {
      "cell_type": "code",
      "metadata": {
        "id": "X-q6f4SMR0kx"
      },
      "source": [
        "# Implementación de las colas ded prioridad sin acotamiento\n",
        "class PriorityQueue:\n",
        "    def __init__( self ):\n",
        "        self.__data =[]\n",
        "        self.__size = 0\n",
        "    \n",
        "    def is_empty( self ):\n",
        "        return self.__size == 0\n",
        "\n",
        "    def length( self ):\n",
        "        return self.__size    \n",
        "    \n",
        "    def enqueue(self , prioridad , elem ):\n",
        "        existe = False\n",
        "        indice = 0\n",
        "        for index in range(len(self.__data)):\n",
        "            if self.__data[index][ \"prioridad\" ] == prioridad:\n",
        "                existe = True\n",
        "                indice = index\n",
        "        \n",
        "        if existe:\n",
        "            self.__data[indice][\"cola\"].enqueue(elem)\n",
        "        else:\n",
        "            self.__data.append( {\"prioridad\":prioridad , \"cola\": Queue() } )\n",
        "            self.__data[-1][\"cola\"].enqueue(elem)\n",
        "\n",
        "    def to_string( self ):\n",
        "        for cola in self.__data:\n",
        "            print(cola[\"prioridad\"] , end=\"\")\n",
        "            cola[\"cola\"].to_string()"
      ],
      "execution_count": 27,
      "outputs": []
    },
    {
      "cell_type": "code",
      "metadata": {
        "colab": {
          "base_uri": "https://localhost:8080/"
        },
        "id": "QL-WZW5mWcpq",
        "outputId": "4db8658d-f680-4c2f-cee2-89a1feb7aa0c"
      },
      "source": [
        "cp = PriorityQueue()\n",
        "cp.enqueue(1, \"niñas\")\n",
        "cp.enqueue(2, \"niños\")\n",
        "cp.enqueue(2, \"niños\")\n",
        "\n",
        "cp.to_string()\n"
      ],
      "execution_count": 28,
      "outputs": [
        {
          "output_type": "stream",
          "name": "stdout",
          "text": [
            "1| niñas| <-- \n",
            "2| niños| <-- | niños| <-- \n"
          ]
        }
      ]
    }
  ]
}