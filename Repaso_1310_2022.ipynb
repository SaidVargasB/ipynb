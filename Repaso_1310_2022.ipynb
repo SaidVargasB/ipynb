{
  "nbformat": 4,
  "nbformat_minor": 0,
  "metadata": {
    "colab": {
      "name": "Repaso_1310_2022.ipynb",
      "provenance": [],
      "collapsed_sections": [],
      "authorship_tag": "ABX9TyMwsGSIr2T9r8+rVWi+kH3z",
      "include_colab_link": true
    },
    "kernelspec": {
      "name": "python3",
      "display_name": "Python 3"
    },
    "language_info": {
      "name": "python"
    }
  },
  "cells": [
    {
      "cell_type": "markdown",
      "metadata": {
        "id": "view-in-github",
        "colab_type": "text"
      },
      "source": [
        "<a href=\"https://colab.research.google.com/github/SaidVargasB/ipynb/blob/circleci-project-setup/Repaso_1310_2022.ipynb\" target=\"_parent\"><img src=\"https://colab.research.google.com/assets/colab-badge.svg\" alt=\"Open In Colab\"/></a>"
      ]
    },
    {
      "cell_type": "markdown",
      "metadata": {
        "id": "5hURUV4IgBkj"
      },
      "source": [
        "# Repaso de programacion Python 3\n",
        "\n",
        "### EDD 1310\n",
        "\n",
        "La función print\n",
        "1. Utilizando comillas dobles o simples\n",
        "2. Utilizando cel signo \",\"\n",
        "3. Utilizando \"+\"\n",
        "4. Utilizando la funcion format\n",
        "5. El operador f''"
      ]
    },
    {
      "cell_type": "code",
      "metadata": {
        "colab": {
          "base_uri": "https://localhost:8080/"
        },
        "id": "MFAAgb0dgl3C",
        "outputId": "eeb8d51a-0588-424c-e45c-6f958c0fbc3e"
      },
      "source": [
        "print('Hola mundo')\n",
        "print(\"Hola mundo\")\n",
        "nombre= \"Said\"\n",
        "carrera = \"Ingeniería en computación\"\n",
        "print(nombre)\n",
        "\n",
        "print(\"Hola \" , nombre )\n",
        "print(\"Hola \" + nombre )\n",
        "\n",
        "print(\"Tu nombre es \" , nombre , \" y estudiaste\" , carrera )\n",
        "\n",
        "#Con Format\n",
        "\n",
        "print( \"Tu nombre es {1}  y estudiaste {0} \".format(nombre , carrera) )\n",
        "\n",
        "#Con el operador f\n",
        "print(f'Tu nombre es {nombre} y estudiaste {carrera} ')\n",
        "\n",
        "#Salto de linea al final\n",
        "print(nombre, end=\"\") #\\n\n",
        "print(\" \", end=\"\")\n",
        "print(carrera, end=\"\")"
      ],
      "execution_count": null,
      "outputs": [
        {
          "output_type": "stream",
          "name": "stdout",
          "text": [
            "Hola mundo\n",
            "Hola mundo\n",
            "Said\n",
            "Hola  Said\n",
            "Hola Said\n",
            "Tu nombre es  Said  y estudiaste Ingeniería en computación\n",
            "Tu nombre es Ingeniería en computación  y estudiaste Said \n",
            "Tu nombre es Said y estudiaste Ingeniería en computación \n",
            "Said Ingeniería en computación"
          ]
        }
      ]
    },
    {
      "cell_type": "markdown",
      "metadata": {
        "id": "uOVI_NSckspJ"
      },
      "source": [
        "\n",
        "##Entrada de Datos\n",
        "###Función input()\n",
        "Sirve para pedir al usuario, equivalente al \n",
        "scanf del leng \"C\" o a la clase Scanner de Java\n",
        "siempre regresa un String\n"
      ]
    },
    {
      "cell_type": "code",
      "metadata": {
        "colab": {
          "base_uri": "https://localhost:8080/"
        },
        "id": "D3hjLpBtlGg3",
        "outputId": "df11cd46-d841-47b4-b1d7-1cab148c838b"
      },
      "source": [
        "nombre = input(\"Introduce tu nombre\")\n",
        "print (nombre)\n",
        "\n",
        "semestre = input(\"En que semestre estas\")\n",
        "print(semestre)\n",
        "semestre = int(semestre) + 1 #Se convierte en entero\n",
        "print(semestre)\n",
        "semestre = semestre + 1\n",
        "print(semestre)\n",
        "\n",
        "semestre = int( input(\"Cual es tu semestre: \"))\n",
        "semestre= semestre + 1\n",
        "print(semestre)"
      ],
      "execution_count": null,
      "outputs": [
        {
          "output_type": "stream",
          "name": "stdout",
          "text": [
            "Introduce tu nombresaid\n",
            "said\n",
            "En que semestre estas3\n",
            "3\n",
            "4\n",
            "5\n",
            "Cual es tu semestre: 4\n",
            "5\n"
          ]
        }
      ]
    },
    {
      "cell_type": "markdown",
      "metadata": {
        "id": "ip8FRq1koMl3"
      },
      "source": [
        "# Repaso del tipo de dato String\n",
        "Es un tipo de dato muy versatil. Los tipos de datos en Python en realidaad son objetos (POO), es decir tiene atributos y métodos.\n",
        "Los valores internos de un String se almacenan como un arreglo. Es decir se accede a los elementos con el operador [indice]\n"
      ]
    },
    {
      "cell_type": "code",
      "metadata": {
        "colab": {
          "base_uri": "https://localhost:8080/"
        },
        "id": "l2PJNs6OpI9V",
        "outputId": "c2f034f7-3626-4f39-ddcd-08753152eef6"
      },
      "source": [
        "frase = \"El conocimiento me persigue... pero yo soy más rápido!!+\"\n",
        "#Como se almacena la información\n",
        "print(frase[ 3 ])\n",
        "print( len( frase ) ) #len lee cuantos caractere hay\n",
        "print( frase[55] )\n",
        "print(frase[-8])\n",
        "\n",
        "#Iterar sobre un String\n",
        "for letra in frase: #Separa las letras\n",
        "  print(letra)\n",
        "print(\"fin\")"
      ],
      "execution_count": null,
      "outputs": [
        {
          "output_type": "stream",
          "name": "stdout",
          "text": [
            "c\n",
            "56\n",
            "+\n",
            "á\n",
            "E\n",
            "l\n",
            " \n",
            "c\n",
            "o\n",
            "n\n",
            "o\n",
            "c\n",
            "i\n",
            "m\n",
            "i\n",
            "e\n",
            "n\n",
            "t\n",
            "o\n",
            " \n",
            "m\n",
            "e\n",
            " \n",
            "p\n",
            "e\n",
            "r\n",
            "s\n",
            "i\n",
            "g\n",
            "u\n",
            "e\n",
            ".\n",
            ".\n",
            ".\n",
            " \n",
            "p\n",
            "e\n",
            "r\n",
            "o\n",
            " \n",
            "y\n",
            "o\n",
            " \n",
            "s\n",
            "o\n",
            "y\n",
            " \n",
            "m\n",
            "á\n",
            "s\n",
            " \n",
            "r\n",
            "á\n",
            "p\n",
            "i\n",
            "d\n",
            "o\n",
            "!\n",
            "!\n",
            "+\n",
            "fin\n"
          ]
        }
      ]
    },
    {
      "cell_type": "markdown",
      "metadata": {
        "id": "mqQYcfqLGFww"
      },
      "source": [
        "#Slicing (Rebanado)\n",
        "Es posible seleccionar argumentos de una lista (str) por medio\n",
        "de la sintaxis `[ <Inicio> : <Tope> <Incremento> ]`\n",
        "Por defecto:\n",
        "1. Inicio = 0\n",
        "2. Tope = tamaño de la lista (str)\n",
        "No incluye el tope, -0\n",
        "3. Incremento = 1"
      ]
    },
    {
      "cell_type": "code",
      "metadata": {
        "colab": {
          "base_uri": "https://localhost:8080/"
        },
        "id": "4_KqVz9nHLWR",
        "outputId": "d3bf54a0-7f92-4183-eecf-b81f53d44899"
      },
      "source": [
        "nombre= \"Facultad de Estudios Superiores Aragón\"\n",
        "print( nombre[0] )\n",
        "print( nombre[1] )\n",
        "#Slicing\n",
        "print( nombre[ 2: 5 : 1])\n",
        "print( nombre[ 0: 8: 1])\n",
        "\n",
        "#Slicing con indexado negativo (-)\n",
        "print( nombre[-6: 0 : 1])\n",
        "#Incremento negativo\n",
        "print( nombre[ 7:  : -1 ])\n"
      ],
      "execution_count": null,
      "outputs": [
        {
          "output_type": "stream",
          "name": "stdout",
          "text": [
            "F\n",
            "a\n",
            "cul\n",
            "Facultad\n",
            "\n",
            "datlucaF\n"
          ]
        }
      ]
    },
    {
      "cell_type": "markdown",
      "metadata": {
        "id": "dN1xMGl9KpsU"
      },
      "source": [
        "#String como objeto\n",
        "El tipo de dato string es una clase por lo tanto tiene atributos\n",
        "y métodos\n",
        "\n",
        "###Ayuda en línea de Python\n",
        "Hay dos funciones que te dan ayuda en python\n",
        "1. Dir()\n",
        "2. help()"
      ]
    },
    {
      "cell_type": "code",
      "metadata": {
        "colab": {
          "base_uri": "https://localhost:8080/"
        },
        "id": "BXrn9SE0LLAw",
        "outputId": "fe491f07-c053-4e5a-b6b9-b2ad8c1b2f2b"
      },
      "source": [
        "dir(str)"
      ],
      "execution_count": null,
      "outputs": [
        {
          "output_type": "execute_result",
          "data": {
            "text/plain": [
              "['__add__',\n",
              " '__class__',\n",
              " '__contains__',\n",
              " '__delattr__',\n",
              " '__dir__',\n",
              " '__doc__',\n",
              " '__eq__',\n",
              " '__format__',\n",
              " '__ge__',\n",
              " '__getattribute__',\n",
              " '__getitem__',\n",
              " '__getnewargs__',\n",
              " '__gt__',\n",
              " '__hash__',\n",
              " '__init__',\n",
              " '__init_subclass__',\n",
              " '__iter__',\n",
              " '__le__',\n",
              " '__len__',\n",
              " '__lt__',\n",
              " '__mod__',\n",
              " '__mul__',\n",
              " '__ne__',\n",
              " '__new__',\n",
              " '__reduce__',\n",
              " '__reduce_ex__',\n",
              " '__repr__',\n",
              " '__rmod__',\n",
              " '__rmul__',\n",
              " '__setattr__',\n",
              " '__sizeof__',\n",
              " '__str__',\n",
              " '__subclasshook__',\n",
              " 'capitalize',\n",
              " 'casefold',\n",
              " 'center',\n",
              " 'count',\n",
              " 'encode',\n",
              " 'endswith',\n",
              " 'expandtabs',\n",
              " 'find',\n",
              " 'format',\n",
              " 'format_map',\n",
              " 'index',\n",
              " 'isalnum',\n",
              " 'isalpha',\n",
              " 'isascii',\n",
              " 'isdecimal',\n",
              " 'isdigit',\n",
              " 'isidentifier',\n",
              " 'islower',\n",
              " 'isnumeric',\n",
              " 'isprintable',\n",
              " 'isspace',\n",
              " 'istitle',\n",
              " 'isupper',\n",
              " 'join',\n",
              " 'ljust',\n",
              " 'lower',\n",
              " 'lstrip',\n",
              " 'maketrans',\n",
              " 'partition',\n",
              " 'replace',\n",
              " 'rfind',\n",
              " 'rindex',\n",
              " 'rjust',\n",
              " 'rpartition',\n",
              " 'rsplit',\n",
              " 'rstrip',\n",
              " 'split',\n",
              " 'splitlines',\n",
              " 'startswith',\n",
              " 'strip',\n",
              " 'swapcase',\n",
              " 'title',\n",
              " 'translate',\n",
              " 'upper',\n",
              " 'zfill']"
            ]
          },
          "metadata": {},
          "execution_count": 10
        }
      ]
    },
    {
      "cell_type": "code",
      "metadata": {
        "colab": {
          "base_uri": "https://localhost:8080/"
        },
        "id": "GfmeCmqiLXyK",
        "outputId": "caad5a90-025a-4d92-f35c-2779d1c73ac3"
      },
      "source": [
        "apellidos = \"garcía pérez\"\n",
        "print( apellidos.capitalize() )\n",
        "print( apellidos.title)\n",
        "print( apellidos.find(\"a\"))\n",
        "print( \"LOPEZ PEREZ\".lower() )\n",
        "print( apellidos.upper() )\n",
        "\n",
        "\n",
        "numeros = \"        1 ,       2   ,      3       ,4,5,6      \"\n",
        "num_divididos = numeros.strip().split(',')\n",
        "print( num_divididos)\n",
        "\n",
        "num_divididos[0] = num_divididos[0].strip()\n",
        "num_divididos[1] = num_divididos[1].strip()\n",
        "num_divididos[2] = num_divididos[2].strip()\n",
        "num_divididos[3] = num_divididos[3].strip()\n",
        "num_divididos[4] = num_divididos[4].strip()\n",
        "num_divididos[5] = num_divididos[5].strip()\n",
        "print( num_divididos )\n",
        "\n",
        "for elem in num_divididos:\n",
        "  print( elem )\n",
        "for index in range(6):\n",
        "  num_divididos[index] = num_divididos[index].strip()\n",
        "print( num_divididos )"
      ],
      "execution_count": null,
      "outputs": [
        {
          "output_type": "stream",
          "name": "stdout",
          "text": [
            "García pérez\n",
            "<built-in method title of str object at 0x7f511cda1f30>\n",
            "1\n",
            "lopez perez\n",
            "GARCÍA PÉREZ\n",
            "['1 ', '       2   ', '      3       ', '4', '5', '6']\n",
            "['1', '2', '3', '4', '5', '6']\n",
            "1\n",
            "2\n",
            "3\n",
            "4\n",
            "5\n",
            "6\n",
            "['1', '2', '3', '4', '5', '6']\n"
          ]
        }
      ]
    },
    {
      "cell_type": "markdown",
      "metadata": {
        "id": "inokWju3PXqR"
      },
      "source": [
        "#Estructuras de control\n",
        "\n",
        "##if\n",
        "\n",
        "##if-else\n",
        "\n",
        "## switch - case (En python se implementa con IF)\n",
        "\n",
        "##for\n",
        "\n",
        "##while y do_while"
      ]
    },
    {
      "cell_type": "code",
      "metadata": {
        "colab": {
          "base_uri": "https://localhost:8080/"
        },
        "id": "VTJyBzFPPw0b",
        "outputId": "ea1c48c0-b980-45c8-f99a-fc6415ae8355"
      },
      "source": [
        "#if\n",
        "a = 12\n",
        "b = 3\n",
        "c = 4\n",
        "print( a > b )\n",
        "\n",
        "if a > b :\n",
        "  print(\"Estamos en el IF\")\n",
        "  print(\"A es mayor que B\")\n",
        "print('Fin del programa')\n",
        "\n",
        "##########\n",
        "if c > a:\n",
        "  if c > b:\n",
        "    print('C es el mayor de los tres')\n",
        "\n",
        "if c > a and c > b:\n",
        "  print(\"C es el mayor de los tres\")\n",
        "\n",
        "#if else cual de las tres variables es mayor \n",
        "if a > b :\n",
        "  if a > c:\n",
        "    print(\"A es la mayor\")\n",
        "  else: \n",
        "    print(\"C es la mayor\")\n",
        "else: \n",
        "  if b > c:\n",
        "    print('B es la mayor')\n",
        "  else:\n",
        "    print(\"C es la mayor\")\n",
        "\n",
        "#if - else (elif) tiene una notacion especial cuando se encadena\n",
        "\n",
        "if a > b :\n",
        "  if a > c:\n",
        "    print(\"A es la mayor\")\n",
        "  else: \n",
        "    print(\"C es la mayor\")\n",
        "elif b > c:\n",
        "    print('B es la mayor')\n",
        "else:\n",
        "    print(\"C es la mayor\")\n",
        "\n",
        "#Pedir al usuario que meta un numero entre el 1 y el 7 y poner que día de la semana es\n",
        "opcion= int(input(\"Introduce un numero entre 1 y 7: \"))\n",
        "if opcion > 0 and opcion < 8 :\n",
        "  if opcion == 1:\n",
        "    print(\"Lunes\")\n",
        "  elif opcion == 2:\n",
        "    print(\"Martes\")\n",
        "  elif opcion == 3:\n",
        "    print(\"Miercoles\")\n",
        "  elif opcion == 4:\n",
        "    print(\"Jueves\")\n",
        "  elif opcion == 5:\n",
        "    print(\"Viernes\")\n",
        "  elif opcion == 6:\n",
        "    print(\"Sábado\")\n",
        "  elif opcion == 7:\n",
        "    print(\"Domingo\")\n",
        "  \n",
        "else: \n",
        "  print(\"Tu dato esta fuera de lo solicitado\")\n",
        "\n"
      ],
      "execution_count": null,
      "outputs": [
        {
          "output_type": "stream",
          "name": "stdout",
          "text": [
            "True\n",
            "Estamos en el IF\n",
            "A es mayor que B\n",
            "Fin del programa\n",
            "A es la mayor\n",
            "A es la mayor\n",
            "Introduce un numero entre 1 y 7: 8\n",
            "Tu dato esta fuera de lo solicitado\n"
          ]
        }
      ]
    },
    {
      "cell_type": "code",
      "metadata": {
        "colab": {
          "base_uri": "https://localhost:8080/"
        },
        "id": "Knkfm4NRUtfE",
        "outputId": "44f000cd-b29f-4514-cc56-d5893dc9ada1"
      },
      "source": [
        "#For y range es una funcion que te proporciona un enumerado\n",
        "algo = range (4, 10, 2)\n",
        "\n",
        "frutas = [ 'Pera' , 'Manzana', 'Aguacate', 'Kiwi', 'Platano' ]\n",
        "nombre = \"santiago\"\n",
        "print(algo)\n",
        "\n",
        "for x in algo:  ## for(int x=4; x<10 ; x=x+2)\n",
        "  print( x )\n",
        "\n",
        "for index in range(0, 5, 1):\n",
        "  print(frutas[index])\n",
        "\n",
        "#For e iteradores \n",
        "for fruit in frutas:\n",
        "  print( fruit )\n",
        "\n",
        "for letra in nombre:\n",
        "  print(letra.upper())\n"
      ],
      "execution_count": null,
      "outputs": [
        {
          "output_type": "stream",
          "name": "stdout",
          "text": [
            "range(4, 10, 2)\n",
            "4\n",
            "6\n",
            "8\n",
            "Pera\n",
            "Manzana\n",
            "Aguacate\n",
            "Kiwi\n",
            "Platano\n",
            "Pera\n",
            "Manzana\n",
            "Aguacate\n",
            "Kiwi\n",
            "Platano\n",
            "S\n",
            "A\n",
            "N\n",
            "T\n",
            "I\n",
            "A\n",
            "G\n",
            "O\n"
          ]
        }
      ]
    },
    {
      "cell_type": "code",
      "metadata": {
        "colab": {
          "base_uri": "https://localhost:8080/"
        },
        "id": "ZYbIs1ViX6VU",
        "outputId": "8539618f-1fa8-4017-a785-d69841432305"
      },
      "source": [
        "# while\n",
        "#hacer un programa que imprima del 1 al 10\n",
        "control = 1\n",
        "while control <= 10:\n",
        "  print( control )\n",
        "  control += 1"
      ],
      "execution_count": null,
      "outputs": [
        {
          "output_type": "stream",
          "name": "stdout",
          "text": [
            "1\n",
            "2\n",
            "3\n",
            "4\n",
            "5\n",
            "6\n",
            "7\n",
            "8\n",
            "9\n",
            "10\n"
          ]
        }
      ]
    },
    {
      "cell_type": "markdown",
      "metadata": {
        "id": "GOUIymDyJ8Zd"
      },
      "source": [
        "#Funciones \n",
        "Es un segmento de código que recibe, cero, o más valores de entrada, realiza unna o un conjunto de operaciones de forma interna y regresa un solo tipo de dato, aun que ese valor sea None(void)\n",
        "\n",
        "Las funciones se declaran con la palabra reservada def"
      ]
    },
    {
      "cell_type": "code",
      "metadata": {
        "colab": {
          "base_uri": "https://localhost:8080/"
        },
        "id": "rQYTnS3vZ7E1",
        "outputId": "e2f174e1-8e49-4c3e-e231-01452dc85568"
      },
      "source": [
        "#funcion suma\n",
        "def suma( a, b):\n",
        "  c = 0\n",
        "  c = a + b\n",
        "  return c \n",
        "print( suma( 4 , 5 ))\n",
        "\n",
        "#funcion que salude personas\n",
        "\n",
        "def saludar( nombre ):\n",
        "  print(f' Hola {nombre}, ¿Cómo estas?')\n",
        "  return None\n",
        "saludar(\"Jesus\")\n",
        "nombre = \"Santiago\"\n",
        "saludar(nombre)\n",
        "\n",
        "res = saludar(nombre)\n",
        "print(res)"
      ],
      "execution_count": null,
      "outputs": [
        {
          "output_type": "stream",
          "name": "stdout",
          "text": [
            "9\n",
            " Hola Jesus, ¿Cómo estas?\n",
            " Hola Santiago, ¿Cómo estas?\n",
            " Hola Santiago, ¿Cómo estas?\n",
            "None\n"
          ]
        }
      ]
    },
    {
      "cell_type": "markdown",
      "metadata": {
        "id": "W-hO-kVuJRF7"
      },
      "source": [
        "#Default y funciones \n",
        "Hay ocaciones que es necesario declarar valores por defecto en los argumentos de una función"
      ]
    },
    {
      "cell_type": "code",
      "metadata": {
        "colab": {
          "base_uri": "https://localhost:8080/"
        },
        "id": "EW7WyaBYJpAd",
        "outputId": "ba3cb0a4-f995-4baf-bdc9-c7e66d1eeb0d"
      },
      "source": [
        "def saludar( nombre, veces ):\n",
        "  for x in range( veces ):\n",
        "    print(f'{x}.- Hola { nombre } ')\n",
        "saludar( \"Juan\" , 3  )\n",
        "\n",
        "#Argumentos con llamadas no posicionales\n",
        "saludar( veces=6, nombre=\"Juan\" )"
      ],
      "execution_count": null,
      "outputs": [
        {
          "output_type": "stream",
          "name": "stdout",
          "text": [
            "0.- Hola Juan \n",
            "1.- Hola Juan \n",
            "2.- Hola Juan \n",
            "0.- Hola Juan \n",
            "1.- Hola Juan \n",
            "2.- Hola Juan \n",
            "3.- Hola Juan \n",
            "4.- Hola Juan \n",
            "5.- Hola Juan \n"
          ]
        }
      ]
    },
    {
      "cell_type": "markdown",
      "metadata": {
        "id": "M8Z1QgjJbdqB"
      },
      "source": [
        "#Listas, diccionarios, tuplas y sets\n"
      ]
    },
    {
      "cell_type": "markdown",
      "metadata": {
        "id": "yLIFSu84MNhk"
      },
      "source": [
        "#Listas\n",
        "Son estructuras de datos declaradas en Python, funcionan como arreglos en Java y C, con algunas diferencias.\n",
        "\n",
        "* Usan el selector [   ]\n",
        "* Estructura secuencial (0. . . n)\n",
        "* Son mutables \n",
        "* Puede contener valores de diferente tipo: [1, \"manzana\", True, 1.23]\n",
        "* Pueden ser anidados \n",
        "(Multidimensional)\n",
        "* Se crean usando [  ] y list()\n"
      ]
    },
    {
      "cell_type": "code",
      "metadata": {
        "colab": {
          "base_uri": "https://localhost:8080/"
        },
        "id": "BDMEA0dVM7Uz",
        "outputId": "08b1d032-935a-45dd-cdf9-4e9d86263e81"
      },
      "source": [
        "frutas = [ \"pera\", \"lima\", \"Limón\", \"Kiwi\", \"manzana\" ]\n",
        "print(frutas)\n",
        "print( frutas[1] )\n",
        "frutas[1] = \"Mango\"\n",
        "print(frutas)\n",
        "persona  = [\"Jose\", 1.78, 19, False, 70.5, \"ICO\" ]\n",
        "print(persona) \n",
        "print(persona[-1])\n",
        "\n",
        "#Slicing\n",
        "numeros = [2,4,6,8,10,12,14,16,18,20]\n",
        "print(numeros[4:7])\n",
        "\n"
      ],
      "execution_count": null,
      "outputs": [
        {
          "output_type": "stream",
          "name": "stdout",
          "text": [
            "['pera', 'lima', 'Limón', 'Kiwi', 'manzana']\n",
            "lima\n",
            "['pera', 'Mango', 'Limón', 'Kiwi', 'manzana']\n",
            "['Jose', 1.78, 19, False, 70.5, 'ICO']\n",
            "ICO\n",
            "[10, 12, 14]\n"
          ]
        }
      ]
    },
    {
      "cell_type": "code",
      "metadata": {
        "colab": {
          "base_uri": "https://localhost:8080/"
        },
        "id": "VCKtZ3i-PEAz",
        "outputId": "047f2ea3-ca1f-464f-e2ba-bc4b4e36b88f"
      },
      "source": [
        "#Listas multi dimencionales \n",
        "bds=[ \"mysql\" , \"Oracle\" , \"BD2\" , \"Mongo\" , \"SQLite\" ]\n",
        "leng_prog = [ \"C\" , \"Java\" , \"JS\" , \"C++\" , \"C#\" , \"Python\" ]\n",
        "tecnologias = [bds , leng_prog ]\n",
        "\n",
        "print( tecnologias ) \n",
        "\n",
        "\"\"\"\n",
        "[\n",
        "    ['mysql', 'Oracle', 'BD2', 'Mongo', 'SQLite'], \n",
        "    ['C', 'Java', 'JS', 'C++', 'C#', 'Python']\n",
        "]\n",
        "\n",
        "\"\"\"\n",
        "\n",
        "print(tecnologias[1][3]) #C++\n",
        "print(tecnologias[0][4]) #SQLite\n",
        "print(tecnologias[0][-1]) #SQLite inverso\n",
        "print(tecnologias[1][2:5]) #Slicing\n",
        "\n"
      ],
      "execution_count": null,
      "outputs": [
        {
          "output_type": "stream",
          "name": "stdout",
          "text": [
            "[['mysql', 'Oracle', 'BD2', 'Mongo', 'SQLite'], ['C', 'Java', 'JS', 'C++', 'C#', 'Python']]\n",
            "C++\n",
            "SQLite\n",
            "SQLite\n",
            "['JS', 'C++', 'C#']\n"
          ]
        }
      ]
    },
    {
      "cell_type": "markdown",
      "metadata": {
        "id": "8tgw3xwDSwoW"
      },
      "source": [
        "#La clase List \n",
        "El tipo de dato list en realidad es una clase que tiene métodos."
      ]
    },
    {
      "cell_type": "code",
      "metadata": {
        "colab": {
          "base_uri": "https://localhost:8080/"
        },
        "id": "_zzcjI2pS4F6",
        "outputId": "d804986c-cd6b-4e95-8838-402632be1fbc"
      },
      "source": [
        "numeros = [ 100, 23, 45  ,23 , 55,1,22,101,99, 10 , 13]\n",
        "type( numeros )\n",
        "dir( numeros )\n",
        "print( numeros.sort() )\n",
        "print( numeros )\n",
        "numeros.reverse()\n",
        "print( numeros )\n",
        "#Eliminar elementos de u  arreglo: 2 formas\n",
        "#Forma 1\n",
        "#utilizando el metodo remove \n",
        "numeros.remove(55)\n",
        "print (numeros )\n",
        "\n",
        "#Forma 2  utilizando el operador del \n",
        "del numeros[3]\n",
        "print( numeros )\n",
        "\n",
        "#Append agrega numeros al final\n",
        "numeros.append(0)\n",
        "numeros.append(33)\n",
        "numeros.sort() #Ordenar\n",
        "numeros.reverse() #Mayor a menor\n",
        "print( numeros )\n",
        "numeros.insert(3, 60) #Agregar numeros\n",
        "print( numeros )\n",
        "n = numeros.pop(1) #Sacar un numero (1)\n",
        "print(n)\n",
        "print( numeros )\n",
        "\n",
        "mas_numeros = [400,500,600,700]\n",
        "numeros.extend(mas_numeros) #Junta las listas\n",
        "print( numeros )\n",
        "#numeros.clear #Limpia la lista\n",
        "#print( numeros )\n",
        "#Lista y la estructura de control FOR\n",
        "for num in numeros:\n",
        "  print( f' ---> { num } <--- ')\n",
        "\n"
      ],
      "execution_count": 51,
      "outputs": [
        {
          "output_type": "stream",
          "name": "stdout",
          "text": [
            "None\n",
            "[1, 10, 13, 22, 23, 23, 45, 55, 99, 100, 101]\n",
            "[101, 100, 99, 55, 45, 23, 23, 22, 13, 10, 1]\n",
            "[101, 100, 99, 45, 23, 23, 22, 13, 10, 1]\n",
            "[101, 100, 99, 23, 23, 22, 13, 10, 1]\n",
            "[101, 100, 99, 33, 23, 23, 22, 13, 10, 1, 0]\n",
            "[101, 100, 99, 60, 33, 23, 23, 22, 13, 10, 1, 0]\n",
            "100\n",
            "[101, 99, 60, 33, 23, 23, 22, 13, 10, 1, 0]\n",
            "[101, 99, 60, 33, 23, 23, 22, 13, 10, 1, 0, 400, 500, 600, 700]\n",
            " ---> 101 <--- \n",
            " ---> 99 <--- \n",
            " ---> 60 <--- \n",
            " ---> 33 <--- \n",
            " ---> 23 <--- \n",
            " ---> 23 <--- \n",
            " ---> 22 <--- \n",
            " ---> 13 <--- \n",
            " ---> 10 <--- \n",
            " ---> 1 <--- \n",
            " ---> 0 <--- \n",
            " ---> 400 <--- \n",
            " ---> 500 <--- \n",
            " ---> 600 <--- \n",
            " ---> 700 <--- \n"
          ]
        }
      ]
    },
    {
      "cell_type": "markdown",
      "metadata": {
        "id": "MgDdSbyhlSxE"
      },
      "source": [
        "#Tuplas\n",
        "* Estructura de dato lineal\n",
        "* Se declaran con (    )\n",
        "* Son **inmutables**\n",
        "* Usan menos espacio en memoria \n",
        "* Son utiles para declarar valores de consulta \n",
        "* Fuera de eso, las demas características  son las mismas que\n",
        "las LISTAS "
      ]
    },
    {
      "cell_type": "code",
      "metadata": {
        "colab": {
          "base_uri": "https://localhost:8080/"
        },
        "id": "9gxj2ybfmPOa",
        "outputId": "fa40c5f4-21a4-40bd-82f4-c1edbdb10223"
      },
      "source": [
        "datos_conexion = (\"123.234.145.23\", \"Juan\", \"patito123\")\n",
        "print( datos_conexion[0] )\n",
        "#datos_conexion[0] = \"17.324.12\" NO MUTABLE\n",
        "dir(datos_conexion) #index regresa el valor de donde se encuentra\n"
      ],
      "execution_count": null,
      "outputs": [
        {
          "output_type": "stream",
          "name": "stdout",
          "text": [
            "123.234.145.23\n"
          ]
        },
        {
          "output_type": "execute_result",
          "data": {
            "text/plain": [
              "['__add__',\n",
              " '__class__',\n",
              " '__contains__',\n",
              " '__delattr__',\n",
              " '__dir__',\n",
              " '__doc__',\n",
              " '__eq__',\n",
              " '__format__',\n",
              " '__ge__',\n",
              " '__getattribute__',\n",
              " '__getitem__',\n",
              " '__getnewargs__',\n",
              " '__gt__',\n",
              " '__hash__',\n",
              " '__init__',\n",
              " '__init_subclass__',\n",
              " '__iter__',\n",
              " '__le__',\n",
              " '__len__',\n",
              " '__lt__',\n",
              " '__mul__',\n",
              " '__ne__',\n",
              " '__new__',\n",
              " '__reduce__',\n",
              " '__reduce_ex__',\n",
              " '__repr__',\n",
              " '__rmul__',\n",
              " '__setattr__',\n",
              " '__sizeof__',\n",
              " '__str__',\n",
              " '__subclasshook__',\n",
              " 'count',\n",
              " 'index']"
            ]
          },
          "metadata": {},
          "execution_count": 19
        }
      ]
    },
    {
      "cell_type": "markdown",
      "metadata": {
        "id": "dHYViEFbYEe-"
      },
      "source": [
        "#Diccionarios \n",
        "\n",
        "* Estructura no lineal \n",
        "* Formada por pares llave-valor\n",
        "{\"key\":valor}\n",
        "*Donde el valor puede ser de cualquier tipo , int, float, list, diccionario.\n",
        "* NO se selecciona con [ número ] X\n",
        "* Su selector es por llave (key)\n",
        "\n",
        "* Son mutables "
      ]
    },
    {
      "cell_type": "code",
      "metadata": {
        "colab": {
          "base_uri": "https://localhost:8080/"
        },
        "id": "pyiUSjuSY7qq",
        "outputId": "83e0783a-230e-4841-f197-19145a8ffb53"
      },
      "source": [
        "persona = { \"nombre\" : \"José\", \"edad\": 19, \"estatura\" : 1.7 }\n",
        "print( persona )\n",
        "print(f\" La estatura es: {persona['estatura'] } metros\")\n",
        "\n",
        "estudiante = { \n",
        "         \"nombre\" : { \"nombres\" : [\"Juan\" , \"Jose\"],\n",
        "                      \"paterno\" : \"Perez\" ,\n",
        "                      \"materno\" : \"Garcia\" \n",
        "                     } , \n",
        "         \"edad\": 19, \n",
        "         \"estatura\" : 1.7,\n",
        "         \"carrera\" : {\n",
        "                     \"escuela\" : \"UNAM FES Aragón\",\n",
        "                     \"Carrera\" : \"ICO\",\n",
        "                     \"semestre\" : 2\n",
        "                    },\n",
        "           \"direccion\": {\n",
        "                    \"calle\" : \"Colorines\",\n",
        "                    \"num_exterior\" : 34,\n",
        "                    \"interior\" : \"apartamento B\"\n",
        "\n",
        "                      }, \n",
        "           \"telefonos\" : {\n",
        "                    \"casa\" : 55523658,\n",
        "                    \"celular\" : [\"+5255523658\",\"+5255371328\"]\n",
        "                    }\n",
        "        }\n",
        "#Ejemplo\n",
        "print(estudiante['direccion']['calle'])\n",
        "print(f\"La estatura es  es : {estudiante['estatura']}\")\n",
        "print( estudiante['telefonos']['celular'][1])\n",
        "estudiante['direccion']['calle']= 'Pancho López' #Cambia direccion\n",
        "print(estudiante['direccion'])\n",
        "estudiante['direccion']['colonia'] = 'Impulsora' #Mutable, agrega colonia a direccion\n",
        "print(estudiante['direccion'])\n",
        "#Combinar con la invocacion de métodos de los valores.\n",
        "#Mostrar el nombre del estudiante en mayúscula\n",
        "print(estudiante['nombre']['nombres'][0].upper(), estudiante['nombre']['nombres'][1].upper()) #Mayúsculas\n",
        "llaves = estudiante.keys() #Muestra las llaves del diccionario\n",
        "print(llaves)\n",
        "print('#########Llaves#########')\n",
        "\n",
        "for llave in llaves:\n",
        "  print(llave)\n",
        "  print(estudiante[llave]) #Muestra todos los datos\n",
        "\n",
        "print('##########Values##############')\n",
        "#Values() \n",
        "vals= estudiante.values()\n",
        "for val in vals:\n",
        "  print(val)\n",
        "\n",
        "print('##########Items##############')\n",
        "elems = estudiante.items()\n",
        "print(elems)\n",
        "print('#########################')\n",
        "for par in elems:\n",
        "  #print(par)\n",
        "  print(par[1])"
      ],
      "execution_count": null,
      "outputs": [
        {
          "output_type": "stream",
          "name": "stdout",
          "text": [
            "{'nombre': 'José', 'edad': 19, 'estatura': 1.7}\n",
            " La estatura es: 1.7 metros\n",
            "Colorines\n",
            "La estatura es  es : 1.7\n",
            "+5255371328\n",
            "{'calle': 'Pancho López', 'num_exterior': 34, 'interior': 'apartamento B'}\n",
            "{'calle': 'Pancho López', 'num_exterior': 34, 'interior': 'apartamento B', 'colonia': 'Impulsora'}\n",
            "JUAN JOSE\n",
            "dict_keys(['nombre', 'edad', 'estatura', 'carrera', 'direccion', 'telefonos'])\n",
            "#########Llaves#########\n",
            "nombre\n",
            "{'nombres': ['Juan', 'Jose'], 'paterno': 'Perez', 'materno': 'Garcia'}\n",
            "edad\n",
            "19\n",
            "estatura\n",
            "1.7\n",
            "carrera\n",
            "{'escuela': 'UNAM FES Aragón', 'Carrera': 'ICO', 'semestre': 2}\n",
            "direccion\n",
            "{'calle': 'Pancho López', 'num_exterior': 34, 'interior': 'apartamento B', 'colonia': 'Impulsora'}\n",
            "telefonos\n",
            "{'casa': 55523658, 'celular': ['+5255523658', '+5255371328']}\n",
            "##########Values##############\n",
            "{'nombres': ['Juan', 'Jose'], 'paterno': 'Perez', 'materno': 'Garcia'}\n",
            "19\n",
            "1.7\n",
            "{'escuela': 'UNAM FES Aragón', 'Carrera': 'ICO', 'semestre': 2}\n",
            "{'calle': 'Pancho López', 'num_exterior': 34, 'interior': 'apartamento B', 'colonia': 'Impulsora'}\n",
            "{'casa': 55523658, 'celular': ['+5255523658', '+5255371328']}\n",
            "##########Items##############\n",
            "dict_items([('nombre', {'nombres': ['Juan', 'Jose'], 'paterno': 'Perez', 'materno': 'Garcia'}), ('edad', 19), ('estatura', 1.7), ('carrera', {'escuela': 'UNAM FES Aragón', 'Carrera': 'ICO', 'semestre': 2}), ('direccion', {'calle': 'Pancho López', 'num_exterior': 34, 'interior': 'apartamento B', 'colonia': 'Impulsora'}), ('telefonos', {'casa': 55523658, 'celular': ['+5255523658', '+5255371328']})])\n",
            "#########################\n",
            "{'nombres': ['Juan', 'Jose'], 'paterno': 'Perez', 'materno': 'Garcia'}\n",
            "19\n",
            "1.7\n",
            "{'escuela': 'UNAM FES Aragón', 'Carrera': 'ICO', 'semestre': 2}\n",
            "{'calle': 'Pancho López', 'num_exterior': 34, 'interior': 'apartamento B', 'colonia': 'Impulsora'}\n",
            "{'casa': 55523658, 'celular': ['+5255523658', '+5255371328']}\n"
          ]
        }
      ]
    },
    {
      "cell_type": "code",
      "metadata": {
        "colab": {
          "base_uri": "https://localhost:8080/"
        },
        "id": "cFB_55QJh9Aw",
        "outputId": "692427d6-1939-4ec6-d966-d3afc6deea5b"
      },
      "source": [
        "dir(estudiante)"
      ],
      "execution_count": null,
      "outputs": [
        {
          "output_type": "execute_result",
          "data": {
            "text/plain": [
              "['__class__',\n",
              " '__contains__',\n",
              " '__delattr__',\n",
              " '__delitem__',\n",
              " '__dir__',\n",
              " '__doc__',\n",
              " '__eq__',\n",
              " '__format__',\n",
              " '__ge__',\n",
              " '__getattribute__',\n",
              " '__getitem__',\n",
              " '__gt__',\n",
              " '__hash__',\n",
              " '__init__',\n",
              " '__init_subclass__',\n",
              " '__iter__',\n",
              " '__le__',\n",
              " '__len__',\n",
              " '__lt__',\n",
              " '__ne__',\n",
              " '__new__',\n",
              " '__reduce__',\n",
              " '__reduce_ex__',\n",
              " '__repr__',\n",
              " '__setattr__',\n",
              " '__setitem__',\n",
              " '__sizeof__',\n",
              " '__str__',\n",
              " '__subclasshook__',\n",
              " 'clear',\n",
              " 'copy',\n",
              " 'fromkeys',\n",
              " 'get',\n",
              " 'items',\n",
              " 'keys',\n",
              " 'pop',\n",
              " 'popitem',\n",
              " 'setdefault',\n",
              " 'update',\n",
              " 'values']"
            ]
          },
          "metadata": {},
          "execution_count": 9
        }
      ]
    },
    {
      "cell_type": "markdown",
      "metadata": {
        "id": "fvlPvFtgpBmJ"
      },
      "source": [
        "#Funciones 2a parte (El reencuentro)\n",
        "\n",
        "###Declarar funciones combinandola con **tuplas**\n",
        "Se pueden recibir una lista de argumentos dinámica que se almacenará en una tupla. Para ello se utiliza un operador especial que es '*' en la declaración de la función.\n",
        "\n",
        "```\n",
        "\n",
        "def mi_funcion( *algo( ):\n",
        "   print(algo)\n",
        "\n",
        "```"
      ]
    },
    {
      "cell_type": "code",
      "metadata": {
        "colab": {
          "base_uri": "https://localhost:8080/"
        },
        "id": "MBclwJKNp5NJ",
        "outputId": "e5f97187-2c75-416d-cd91-7763551b323d"
      },
      "source": [
        "def mi_funcion( *argumentos):\n",
        "  print(argumentos)\n",
        "\n",
        "mi_funcion(1,2,3 , \"Hola\", 3.1416)\n",
        "\n",
        "###Ejemplo Suma\n",
        "def suma_v2( *vals ):\n",
        "  suma = 0\n",
        "  for valor in vals:\n",
        "    suma += valor \n",
        "  print(suma)\n",
        "\n",
        "suma_v2(5,4 , 2,3,4,5,6,6,6,6,6,6,6,6)"
      ],
      "execution_count": null,
      "outputs": [
        {
          "output_type": "stream",
          "name": "stdout",
          "text": [
            "(1, 2, 3, 'Hola', 3.1416)\n",
            "71\n"
          ]
        }
      ]
    },
    {
      "cell_type": "markdown",
      "metadata": {
        "id": "OZOxsOVAsXTz"
      },
      "source": [
        "### Declarar funciones declarandolas con **diccionarios**\n",
        "```\n",
        "def mi_funcion( **argumentos ):\n",
        "    print(argumentos) #argumentos es un diccionario\n",
        "\n",
        "```"
      ]
    },
    {
      "cell_type": "code",
      "metadata": {
        "colab": {
          "base_uri": "https://localhost:8080/"
        },
        "id": "7jja1A2isyIL",
        "outputId": "350fc85b-0e08-4c36-d7a3-46eaa26ef472"
      },
      "source": [
        "def mi_funcion( **argumentos ):\n",
        "  print(argumentos)\n",
        "\n",
        "mi_funcion( nombre ='Jose', edad=19 ) \n"
      ],
      "execution_count": null,
      "outputs": [
        {
          "output_type": "stream",
          "name": "stdout",
          "text": [
            "{'nombre': 'Jose', 'edad': 19}\n"
          ]
        }
      ]
    },
    {
      "cell_type": "markdown",
      "metadata": {
        "id": "JWQZusUCKkJI"
      },
      "source": [
        "#Módulos\n",
        "Un módulo en Python es equivalente  aun package en Java o un archivo .H en lenguaje C.\n",
        "\n",
        "en él, declaras códigos que quieras llamar varias veces, este código debe estar empaquetado principalmente en funciones."
      ]
    },
    {
      "cell_type": "code",
      "metadata": {
        "colab": {
          "base_uri": "https://localhost:8080/"
        },
        "id": "MK9u3HKTNzBu",
        "outputId": "fef6215b-0bf0-43a7-e170-bea834d2892b"
      },
      "source": [
        "import mimodulo\n",
        "\n",
        "mimodulo.mi_suma( 3 , 4)\n",
        "\n",
        "mimodulo.mi_print(\"hola k ase\")\n",
        "mimodulo.al_reves(\"hola k ase\")"
      ],
      "execution_count": null,
      "outputs": [
        {
          "output_type": "stream",
          "name": "stdout",
          "text": [
            "Haciendo una suma\n",
            "La suma de 3 + 4 = 7\n",
            "HOLA K ASE\n",
            "esa k aloh\n"
          ]
        }
      ]
    },
    {
      "cell_type": "code",
      "metadata": {
        "colab": {
          "base_uri": "https://localhost:8080/"
        },
        "id": "Bj8r23zARIs2",
        "outputId": "9a8ecfba-7944-43e7-96a7-a80ba63c36bd"
      },
      "source": [
        "from mimodulo import mi_print\n",
        "mi_print(\"Hola de nuevo mi chavo\")\n",
        "\n",
        "mimodulo.al_reves(\"Hola de nuevo mi chavo\")"
      ],
      "execution_count": null,
      "outputs": [
        {
          "output_type": "stream",
          "name": "stdout",
          "text": [
            "HOLA DE NUEVO MI CHAVO\n",
            "ovahc im oveun ed aloH\n"
          ]
        }
      ]
    },
    {
      "cell_type": "code",
      "metadata": {
        "colab": {
          "base_uri": "https://localhost:8080/"
        },
        "id": "RFhVsm9OSCPM",
        "outputId": "c8bb66f2-d9a6-4a6f-fe70-6133e6fba64b"
      },
      "source": [
        "#Chalk\n",
        "import sys\n",
        "#dir(sys)\n",
        "print( sys.path ) #Se configura en que carpeta buscar códigos de módulos"
      ],
      "execution_count": null,
      "outputs": [
        {
          "output_type": "stream",
          "name": "stdout",
          "text": [
            "['', '/content', '/env/python', '/usr/lib/python37.zip', '/usr/lib/python3.7', '/usr/lib/python3.7/lib-dynload', '/usr/local/lib/python3.7/dist-packages', '/usr/lib/python3/dist-packages', '/usr/local/lib/python3.7/dist-packages/IPython/extensions', '/root/.ipython']\n"
          ]
        }
      ]
    },
    {
      "cell_type": "code",
      "metadata": {
        "colab": {
          "base_uri": "https://localhost:8080/"
        },
        "id": "USFxFgkeT2cY",
        "outputId": "250eba2d-84f6-47c2-fe76-0d7152bb2375"
      },
      "source": [
        "# !ls #Muestra directorio\n",
        "!pip install simple-chalk #Descargar repositorios del módulo central (De Python)"
      ],
      "execution_count": null,
      "outputs": [
        {
          "output_type": "stream",
          "name": "stdout",
          "text": [
            "Collecting simple-chalk\n",
            "  Downloading simple_chalk-0.1.0.tar.gz (13 kB)\n",
            "Building wheels for collected packages: simple-chalk\n",
            "  Building wheel for simple-chalk (setup.py) ... \u001b[?25l\u001b[?25hdone\n",
            "  Created wheel for simple-chalk: filename=simple_chalk-0.1.0-py3-none-any.whl size=22163 sha256=6eb40ea5e58d461cfafc2594594f2324c74256338db23a90abf1a8a80beaae19\n",
            "  Stored in directory: /root/.cache/pip/wheels/24/e2/84/d54838032016039eef79df1137b91defaa6db068d825dfcdcd\n",
            "Successfully built simple-chalk\n",
            "Installing collected packages: simple-chalk\n",
            "Successfully installed simple-chalk-0.1.0\n"
          ]
        }
      ]
    },
    {
      "cell_type": "code",
      "metadata": {
        "colab": {
          "base_uri": "https://localhost:8080/"
        },
        "id": "3xIUnQ7GUoc7",
        "outputId": "66a0bd5c-e67c-486b-b1a8-686d1766a3c3"
      },
      "source": [
        "from simple_chalk import *\n",
        "print(chalk.blue(\"Texto azul\"))\n",
        "whyNot = green.bgWhite.red.bgGrey\n",
        "print(whyNot(\"this is red text with a grey background\"))\n",
        "verde_sobre_negro = bgBlack.green\n",
        "print(verde_sobre_negro(\"test\"))"
      ],
      "execution_count": null,
      "outputs": [
        {
          "output_type": "stream",
          "name": "stdout",
          "text": [
            "\u001b[34mTexto azul\u001b[0m\n",
            "\u001b[31;100mthis is red text with a grey background\u001b[0m\n",
            "\u001b[40;32mtest\u001b[0m\n"
          ]
        }
      ]
    },
    {
      "cell_type": "code",
      "metadata": {
        "colab": {
          "base_uri": "https://localhost:8080/"
        },
        "id": "thgIjn2WY08D",
        "outputId": "6b327880-feb6-460b-b45a-74f70e6d6aa3"
      },
      "source": [
        "!cat datos.dat"
      ],
      "execution_count": null,
      "outputs": [
        {
          "output_type": "stream",
          "name": "stdout",
          "text": [
            "1,2,3,4,5,6,7\r\n",
            "8,9,10\r\n",
            "11,12\r\n",
            "13"
          ]
        }
      ]
    },
    {
      "cell_type": "markdown",
      "metadata": {
        "id": "gDLP4yYdXcoM"
      },
      "source": [
        "#Archivos\n",
        "Para abrir un archivo se utiliza la función open('nombre','AB')\n",
        "\n",
        "nombre = La ruta del archivo \n",
        "A = modo de apertura ( W, r, a, ...)\n",
        "B = Formato t (texto) o b (binario)\n",
        "\n",
        "Para leer tenemos las funciones:\n",
        "\n",
        "- read()\n",
        "- readine()\n",
        "- readlines()\n"
      ]
    },
    {
      "cell_type": "code",
      "metadata": {
        "colab": {
          "base_uri": "https://localhost:8080/"
        },
        "id": "Df4fotblYZL7",
        "outputId": "86e15622-ccc2-4af8-deb3-c73018ca2cc8"
      },
      "source": [
        "\"\"\"\n",
        "1,2,3,4,5,6,7\n",
        "8,9,10\n",
        "11,12\n",
        "13\n",
        "\"\"\"\n",
        "archivo = open('datos.dat','rt')\n",
        "info = archivo.read() #READ() Leyo el archivo y lo regreso almacenandolo en info\n",
        "print( info )\n",
        "\n",
        "#readline()\n",
        "print('----------READLINE()-----------') \n",
        "archivo = open('datos.dat','rt')\n",
        "info = archivo.readline() #Lee la variable hasta el primer salto de linea\n",
        "print( info)\n",
        "info = archivo.readline()\n",
        "print( info) \n",
        "\n",
        "#readlines()\n",
        "print('-------READLINES------')\n",
        "archivo = open('datos.dat','rt')\n",
        "info = archivo.readlines()\n",
        "print(info)\n",
        "for index in range(len(info)):\n",
        "  info[index] = info[index].strip()\n",
        "print(info)\n",
        "\n",
        "numeros = []\n",
        "\n",
        "for grupo in info:  #for each\n",
        "  for numero in grupo.split(','):\n",
        "    numeros.append(int(numero))\n",
        "print(numeros)\n",
        "\n",
        "suma = 0\n",
        "for num in numeros:\n",
        "  suma += num\n",
        "\n",
        "print(suma)\n",
        "\n"
      ],
      "execution_count": null,
      "outputs": [
        {
          "output_type": "stream",
          "name": "stdout",
          "text": [
            "1,2,3,4,5,6,7\n",
            "8,9,10\n",
            "11,12\n",
            "13\n",
            "----------READLINE()-----------\n",
            "1,2,3,4,5,6,7\n",
            "\n",
            "8,9,10\n",
            "\n",
            "-------READLINES------\n",
            "['1,2,3,4,5,6,7\\n', '8,9,10\\n', '11,12\\n', '13']\n",
            "['1,2,3,4,5,6,7', '8,9,10', '11,12', '13']\n",
            "[1, 2, 3, 4, 5, 6, 7, 8, 9, 10, 11, 12, 13]\n",
            "91\n"
          ]
        }
      ]
    },
    {
      "cell_type": "markdown",
      "metadata": {
        "id": "QtsCe4EHfKe-"
      },
      "source": [
        "#Programación Orientada a Objetos\n",
        "La POO es un paradigma no soportado priginalmente por Python, Python aneja el paradigma Imperativo.\n",
        "\n",
        "Python simula la POO con la declaración de clases y haciendo referencia a un objeto de forma circular. ***self*** en python es equivalente a this de java\n",
        "\n",
        "1. Forma 1:\n",
        "```\n",
        "class <Nombre de la clase>:\n",
        "      <definición de la clase>\n",
        "```\n",
        "2.Forma 2:\n",
        "```\n",
        "class <nombre de la clase>(<Super clase>):\n",
        "      <Definicion del cuerpo de la clase>\n",
        "```\n",
        "\n",
        "La declaración de atributos se realiza por medio del constructor.\n",
        "\n",
        "Para hacer encapsulamiento de métodos o atributos se debe poner__(DOBLE GUION BAJO) previo a la declaración del atributo o método"
      ]
    },
    {
      "cell_type": "code",
      "metadata": {
        "id": "EJ5Fra7qiHS2"
      },
      "source": [
        " class Persona:\n",
        "   def __init__( self  , n , e, est ):\n",
        "     self.__nombre = n\n",
        "     self.__edad = e\n",
        "     self.__estatura = est\n",
        "   def to_string( self ):\n",
        "      return \"Nombre: \" + self.__nombre +\" Edad: \"+ str(self.__edad) + \" Estatura: \" + str(self.__estatura)\n",
        "\n",
        "   def set_estatura( self , nueva_est ):\n",
        "     if nueva_est > 0.10 and nueva_est < 2.5 :\n",
        "       self.__estatura = nueva_est\n",
        "     else:\n",
        "       print(\"Error: Esa estatura no es posible\")\n",
        "  \n",
        "   def get__estatura( self ):\n",
        "     return self.__estatura"
      ],
      "execution_count": 45,
      "outputs": []
    },
    {
      "cell_type": "code",
      "metadata": {
        "colab": {
          "base_uri": "https://localhost:8080/"
        },
        "id": "YvdntbsyiswW",
        "outputId": "fb197b99-fd3e-4d30-9f8f-9c8dc24072c5"
      },
      "source": [
        "per = Persona(\"Jose\", 19, 1.7)\n",
        "print(per.to_string())\n",
        "\n",
        "#Ancapsulamiento\n",
        "\n",
        "per.nombre = \"Pedro\" #Esto no se recomienda, se puede romper la lógica como en la línea 9, además de que es fácilmente modificable.\n",
        "print(per.to_string())\n",
        "\n",
        "#per.estatura = 3.9\n",
        "#print(per.to_string())\n",
        "per.set_estatura(1.9)\n",
        "print(per.to_string())\n",
        "\n",
        "print(\"Estatura:\" , end=\"\")\n",
        "#print( per.__estatura )\n",
        "print( per.get__estatura())"
      ],
      "execution_count": 46,
      "outputs": [
        {
          "output_type": "stream",
          "name": "stdout",
          "text": [
            "Nombre: Jose Edad: 19 Estatura: 1.7\n",
            "Nombre: Jose Edad: 19 Estatura: 1.7\n",
            "Nombre: Jose Edad: 19 Estatura: 1.9\n",
            "Estatura:1.9\n"
          ]
        }
      ]
    },
    {
      "cell_type": "code",
      "metadata": {
        "id": "eklVk7Loq2WK"
      },
      "source": [
        "#Herencia\n",
        "class Estudiante( Persona ):\n",
        "  def __init__( self , nc, nombre, edad, est ):\n",
        "    self.__num_cta = nc\n",
        "    super().__init__(nombre,edad,est)\n",
        "    \n",
        "\n",
        "  def to_string( self ):\n",
        "    return super().to_string() + \" Numero de cuenta: \" + self.__num_cta"
      ],
      "execution_count": 49,
      "outputs": []
    },
    {
      "cell_type": "code",
      "metadata": {
        "colab": {
          "base_uri": "https://localhost:8080/"
        },
        "id": "eLQVyXfgreSq",
        "outputId": "7261f622-71eb-490a-b206-fd88c19d4dfd"
      },
      "source": [
        "est = Estudiante( \"212020202\", \"José\",18,1.7 )\n",
        "print( est.to_string() )"
      ],
      "execution_count": 50,
      "outputs": [
        {
          "output_type": "stream",
          "name": "stdout",
          "text": [
            "Nombre: José Edad: 18 Estatura: 1.7 Numero de cuenta: 212020202\n"
          ]
        }
      ]
    }
  ]
}