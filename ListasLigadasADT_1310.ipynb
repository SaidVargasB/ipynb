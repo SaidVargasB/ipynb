{
  "nbformat": 4,
  "nbformat_minor": 0,
  "metadata": {
    "colab": {
      "name": "ListasLigadasADT_1310.ipynb",
      "provenance": [],
      "authorship_tag": "ABX9TyMxnzT6NJu9p6YueavkZluJ",
      "include_colab_link": true
    },
    "kernelspec": {
      "name": "python3",
      "display_name": "Python 3"
    },
    "language_info": {
      "name": "python"
    }
  },
  "cells": [
    {
      "cell_type": "markdown",
      "metadata": {
        "id": "view-in-github",
        "colab_type": "text"
      },
      "source": [
        "<a href=\"https://colab.research.google.com/github/SaidVargasB/ipynb/blob/circleci-project-setup/ListasLigadasADT_1310.ipynb\" target=\"_parent\"><img src=\"https://colab.research.google.com/assets/colab-badge.svg\" alt=\"Open In Colab\"/></a>"
      ]
    },
    {
      "cell_type": "markdown",
      "metadata": {
        "id": "nFKnaWQO0ioT"
      },
      "source": [
        "#Ejercicios con la clase Nodo \n",
        "\n",
        "- Crear un nodo \n",
        "    - Imprimir el valor del nodo \n",
        "- Crear dos nodos \n",
        "    - Imprimir el valor del primero\n",
        "    - Imprimir el valor del segundo \n",
        "    - Transversal\n",
        "- Lo mismo pero con 4 nodos 10,20,30,40\n",
        "    - Imprimir el valor del primero\n",
        "    - Imprimir el último valor\n",
        "    - Transversal\n",
        "    - Insertar el nodo 25 antes del nodo 30 y despúes del nodo 20\n",
        "#Todo esto antes de ir a la escritura formal ADT Lista ligada"
      ]
    },
    {
      "cell_type": "code",
      "metadata": {
        "id": "FXiZhrO01o-L"
      },
      "source": [
        "class Nodo:\n",
        "    def __init__( self , value , siguiente = None  ):\n",
        "        self.data = value \n",
        "        self.next = siguiente"
      ],
      "execution_count": 1,
      "outputs": []
    },
    {
      "cell_type": "code",
      "metadata": {
        "colab": {
          "base_uri": "https://localhost:8080/"
        },
        "id": "bXYQq2qH0aiQ",
        "outputId": "b36da8de-b1eb-4f3b-9777-a3161ec5f2bc"
      },
      "source": [
        "head = Nodo(10)\n",
        "print( head.data ) #data=direccion de memoria del objeto head"
      ],
      "execution_count": 33,
      "outputs": [
        {
          "output_type": "stream",
          "name": "stdout",
          "text": [
            "10\n"
          ]
        }
      ]
    },
    {
      "cell_type": "code",
      "metadata": {
        "colab": {
          "base_uri": "https://localhost:8080/"
        },
        "id": "YiN8LOjy2e4y",
        "outputId": "2c4b6b93-0e89-442e-a899-389eee669ad7"
      },
      "source": [
        "head = Nodo(10)\n",
        "head.next = Nodo(20)\n",
        "print(f\"Primero={head.data} \")\n",
        "print(f\"Segundo={head.next.data} \")\n",
        "\n",
        "#   Lo mismo pero ahorrando código\n",
        "head = Nodo(10 , Nodo(20))\n",
        "print(f\"Primero={head.data} \")\n",
        "print(f\"Segundo={head.next.data} \")\n",
        "\n",
        "#   Transversal\n",
        "curr_node = head\n",
        "while curr_node != None:\n",
        "    print(f\"| { curr_node.data } | ---> \" , end=\"\" )\n",
        "    curr_node = curr_node.next\n"
      ],
      "execution_count": 32,
      "outputs": [
        {
          "output_type": "stream",
          "name": "stdout",
          "text": [
            "Primero=10 \n",
            "Segundo=20 \n",
            "Primero=10 \n",
            "Segundo=20 \n",
            "| 10 | ---> | 20 | ---> "
          ]
        }
      ]
    },
    {
      "cell_type": "code",
      "metadata": {
        "colab": {
          "base_uri": "https://localhost:8080/"
        },
        "id": "x_eQtNkg690u",
        "outputId": "32483569-1b67-4c06-c8bd-c8711bd748c1"
      },
      "source": [
        "head = Nodo(10,Nodo(20,Nodo(30,Nodo(40))))\n",
        "#Nodo(valor , siguiente) \n",
        "#   Trasnversal\n",
        "curr_node = head\n",
        "while curr_node !=  None:\n",
        "    print(f\"| {curr_node.data } | ---> \" , end=\"\")\n",
        "    curr_node = curr_node.next\n",
        "print(\"\")\n",
        "\n",
        "#   Imprimir el primero\n",
        "print(head.data)\n",
        "#   Imprimir el último\n",
        "curr_node = head\n",
        "while curr_node.next != None:\n",
        "    curr_node = curr_node.next\n",
        "print(curr_node.data)\n",
        "\n",
        "#   Insertar el 25 entre 20 y 30\n",
        "curr_node = head\n",
        "while curr_node.data != 20:\n",
        "    curr_node = curr_node.next\n",
        "print(curr_node.data)\n",
        "\n",
        "#      Crear Nodo 25\n",
        "curr_node.next = Nodo(25, curr_node.next )\n",
        "print(\"Después de insertar a 25 \")\n",
        "#   Trasnversal\n",
        "curr_node = head\n",
        "while curr_node !=  None:\n",
        "    print(f\"| {curr_node.data } | ---> \" , end=\"\")\n",
        "    curr_node = curr_node.next\n",
        "print(\"\")"
      ],
      "execution_count": 34,
      "outputs": [
        {
          "output_type": "stream",
          "name": "stdout",
          "text": [
            "| 10 | ---> | 20 | ---> | 30 | ---> | 40 | ---> \n",
            "10\n",
            "40\n",
            "20\n",
            "Después de insertar a 25 \n",
            "| 10 | ---> | 20 | ---> | 25 | ---> | 30 | ---> | 40 | ---> \n"
          ]
        }
      ]
    },
    {
      "cell_type": "code",
      "metadata": {
        "colab": {
          "base_uri": "https://localhost:8080/"
        },
        "id": "sW_EvTdJbAlk",
        "outputId": "f45f8bed-cdcd-4636-a7a0-fa4d0f523c28"
      },
      "source": [
        "a = 10\n",
        "b = 20\n",
        "c = 15\n",
        "c = c + a\n",
        "\n",
        "# c?\n",
        "c = (c + a) * 20\n",
        "print(c)"
      ],
      "execution_count": 35,
      "outputs": [
        {
          "output_type": "stream",
          "name": "stdout",
          "text": [
            "700\n"
          ]
        }
      ]
    },
    {
      "cell_type": "code",
      "metadata": {
        "id": "_TVuYTuac-7N"
      },
      "source": [
        "class Nodo:\n",
        "    def __init__( self , value , siguiente = None  ):\n",
        "        self.data = value \n",
        "        self.next = siguiente\n",
        "\n",
        "class LinkedList:\n",
        "    def __init__( self ):\n",
        "        self.head = None\n",
        "    \n",
        "    def is_empty( self ):\n",
        "        return self.head == None\n",
        "\n",
        "    def get_tail( self ):\n",
        "        if self.is_empty():\n",
        "            return None\n",
        "        else:\n",
        "            curr_node = self.head\n",
        "            while curr_node.next != None:\n",
        "                curr_node = curr_node.next\n",
        "            return curr_node\n",
        "\n",
        "    def append( self , value ):\n",
        "        if self.head == None:\n",
        "            self.head = Nodo( value )\n",
        "        else:\n",
        "            curr_node = self.head\n",
        "            while curr_node.next != None:\n",
        "                curr_node = curr_node.next\n",
        "            curr_node.next = Nodo( value )\n",
        "\n",
        "    def transversal( self ):\n",
        "        curr_node = self.head\n",
        "        while curr_node != None:\n",
        "            print(f'| {curr_node.data } | --->', end=\"\")\n",
        "            curr_node = curr_node.next\n",
        "        print(\"\")\n",
        "\n",
        "    def remove( self , value ):\n",
        "        if self.head == None:\n",
        "            print(\"Lista vacía, no se puede remover nada\")\n",
        "        else:\n",
        "            curr_node = self.head\n",
        "            aux = None\n",
        "            while curr_node.data != value: #Revisar cuando el valor no existe\n",
        "                aux = curr_node\n",
        "                curr_node = curr_node.next\n",
        "\n",
        "            if curr_node != None:\n",
        "                aux.next = curr_node.next\n",
        "                curr_node = None\n",
        "\n",
        "    def prepend( self , value ):\n",
        "        if self.head != None:\n",
        "            print(\"Esta vacío, no se puede usar prepend\")\n",
        "        else:\n",
        "            aux = self.head\n",
        "            self.head = Nodo( value , aux)"
      ],
      "execution_count": 37,
      "outputs": []
    },
    {
      "cell_type": "code",
      "metadata": {
        "colab": {
          "base_uri": "https://localhost:8080/"
        },
        "id": "TptRRVJ2fhyd",
        "outputId": "fc172a67-8668-4c75-9de2-e0fec6708272"
      },
      "source": [
        "lista = LinkedList()\n",
        "if lista.is_empty():\n",
        "    print(\"La lista esta vacía\")\n",
        "else:\n",
        "    print(\"La lista no está vacía\")\n",
        "\n",
        "lista.append(10)\n",
        "lista.append(20)\n",
        "lista.append(30)\n",
        "lista.append(40)\n",
        "lista.append(50)\n",
        "\n",
        "nodo = lista.get_tail()\n",
        "if nodo != None: ####!= Es diferente\n",
        "    print(nodo.data)\n",
        "else:\n",
        "    print(\"Lista está vacía\")\n",
        "\n",
        "lista.transversal()\n",
        "lista.remove(30)\n",
        "lista.transversal()\n",
        "lista.prepend(5)\n"
      ],
      "execution_count": 38,
      "outputs": [
        {
          "output_type": "stream",
          "name": "stdout",
          "text": [
            "La lista esta vacía\n",
            "50\n",
            "| 10 | --->| 20 | --->| 30 | --->| 40 | --->| 50 | --->\n",
            "| 10 | --->| 20 | --->| 40 | --->| 50 | --->\n",
            "Esta vacío, no se puede usar prepend\n"
          ]
        }
      ]
    }
  ]
}