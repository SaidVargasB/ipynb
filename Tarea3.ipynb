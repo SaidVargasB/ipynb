{
  "nbformat": 4,
  "nbformat_minor": 0,
  "metadata": {
    "colab": {
      "name": "Tarea3.ipynb",
      "provenance": [],
      "authorship_tag": "ABX9TyMbxFwp/HEtIq6I23DPnM4t",
      "include_colab_link": true
    },
    "kernelspec": {
      "name": "python3",
      "display_name": "Python 3"
    },
    "language_info": {
      "name": "python"
    }
  },
  "cells": [
    {
      "cell_type": "markdown",
      "metadata": {
        "id": "view-in-github",
        "colab_type": "text"
      },
      "source": [
        "<a href=\"https://colab.research.google.com/github/SaidVargasB/ipynb/blob/circleci-project-setup/Tarea3.ipynb\" target=\"_parent\"><img src=\"https://colab.research.google.com/assets/colab-badge.svg\" alt=\"Open In Colab\"/></a>"
      ]
    },
    {
      "cell_type": "code",
      "metadata": {
        "id": "vZEQAj260hjd",
        "colab": {
          "base_uri": "https://localhost:8080/"
        },
        "outputId": "30a6d8e7-f04a-4fd0-8c62-a99f492aaa6a"
      },
      "source": [
        "menu_select = { 'mesa' : 3, 'comensal' : 2, 'entrada' : \"Ensalada verde\", 'medio' : \"crema de zanahoria\",\n",
        "                'fuerte' : \"filete\", \n",
        "                'adicionales' : \"Filete término medio, la ensalada sin ningún tipo de semilla, Adereso Ranch\"}\n",
        "print(\"Detalle: \")\n",
        "print( \"MESA:\",menu_select['mesa'])\n",
        "print( \"COMENSAL:\",menu_select['comensal'])\n",
        "print( \"ENTRADA:\",menu_select['entrada'])\n",
        "print( \"MEDIO:\",menu_select['medio'])\n",
        "print( \"FUERTE:\",menu_select['fuerte'])\n",
        "print( \"ADICIONALES:\",menu_select['adicionales'] )\n",
        "\n",
        "\n",
        "\n"
      ],
      "execution_count": 41,
      "outputs": [
        {
          "output_type": "stream",
          "name": "stdout",
          "text": [
            "Detalle: \n",
            "MESA: 3\n",
            "COMENSAL: 2\n",
            "ENTRADA: Ensalada verde\n",
            "MEDIO: crema de zanahoria\n",
            "FUERTE: filete\n",
            "ADICIONALES: Filete término medio, la ensalada sin ningún tipo de semilla, Adereso Ranch\n"
          ]
        }
      ]
    }
  ]
}