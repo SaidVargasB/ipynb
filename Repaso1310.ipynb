{
  "nbformat": 4,
  "nbformat_minor": 0,
  "metadata": {
    "colab": {
      "name": "Repaso1310.ipynb",
      "provenance": [],
      "authorship_tag": "ABX9TyNC25YJ9HA9c89TtTYygdP2",
      "include_colab_link": true
    },
    "kernelspec": {
      "name": "python3",
      "display_name": "Python 3"
    },
    "language_info": {
      "name": "python"
    }
  },
  "cells": [
    {
      "cell_type": "markdown",
      "metadata": {
        "id": "view-in-github",
        "colab_type": "text"
      },
      "source": [
        "<a href=\"https://colab.research.google.com/github/SaidVargasB/ipynb/blob/circleci-project-setup/Repaso1310.ipynb\" target=\"_parent\"><img src=\"https://colab.research.google.com/assets/colab-badge.svg\" alt=\"Open In Colab\"/></a>"
      ]
    },
    {
      "cell_type": "code",
      "metadata": {
        "id": "QnHYwDkLzlbM"
      },
      "source": [
        "class Persona:\n",
        "   def __init__( self  , n , e, est ):\n",
        "     self.__nombre = n\n",
        "     self.__edad = e\n",
        "     self.__estatura = est\n",
        "   def to_string( self ):\n",
        "      return \"Nombre: \" + self.__nombre +\" Edad: \"+ str(self.__edad) + \" Estatura: \" + str(self.__estatura)\n",
        "\n",
        "   def set_estatura( self , nueva_est ):\n",
        "     if nueva_est > 0.10 and nueva_est < 2.5 :\n",
        "       self.__estatura = nueva_est\n",
        "     else:\n",
        "       print(\"Error: Esa estatura no es posible\")\n",
        "  \n",
        "   def get__estatura( self ):\n",
        "     return self.__estatura"
      ],
      "execution_count": 1,
      "outputs": []
    },
    {
      "cell_type": "code",
      "metadata": {
        "colab": {
          "base_uri": "https://localhost:8080/"
        },
        "id": "JN1y3fqUzoBi",
        "outputId": "3c18c6ec-a1b6-4c7d-8408-3be4785b9384"
      },
      "source": [
        "per = Persona(\"Jose\", 19, 1.7)\n",
        "print(per.to_string())\n",
        "\n",
        "#Ancapsulamiento\n",
        "\n",
        "per.nombre = \"Pedro\" #Esto no se recomienda, se puede romper la lógica como en la línea 9, además de que es fácilmente modificable.\n",
        "print(per.to_string())\n",
        "\n",
        "#per.estatura = 3.9\n",
        "#print(per.to_string())\n",
        "per.set_estatura(1.9)\n",
        "print(per.to_string())\n",
        "\n",
        "print(\"Estatura:\" , end=\"\")\n",
        "#print( per.__estatura )\n",
        "print( per.get__estatura())"
      ],
      "execution_count": 2,
      "outputs": [
        {
          "output_type": "stream",
          "name": "stdout",
          "text": [
            "Nombre: Jose Edad: 19 Estatura: 1.7\n",
            "Nombre: Jose Edad: 19 Estatura: 1.7\n",
            "Nombre: Jose Edad: 19 Estatura: 1.9\n",
            "Estatura:1.9\n"
          ]
        }
      ]
    },
    {
      "cell_type": "code",
      "metadata": {
        "id": "gtdSMYqHztmu"
      },
      "source": [
        "#Herencia\n",
        "class Estudiante( Persona ):\n",
        "  def __init__( self , nc, nombre, edad, est ):\n",
        "    self.__num_cta = nc\n",
        "    super().__init__(nombre,edad,est)\n",
        "    \n",
        "\n",
        "  def to_string( self ):\n",
        "    return super().to_string() + \" Numero de cuenta: \" + self.__num_cta"
      ],
      "execution_count": 3,
      "outputs": []
    },
    {
      "cell_type": "code",
      "metadata": {
        "colab": {
          "base_uri": "https://localhost:8080/"
        },
        "id": "xYTMaHyKzvi2",
        "outputId": "bee3349a-99ac-4eae-a2a7-330d241c0c4f"
      },
      "source": [
        "est = Estudiante( \"212020202\", \"José\",18,1.7 )\n",
        "print( est.to_string() )"
      ],
      "execution_count": 4,
      "outputs": [
        {
          "output_type": "stream",
          "name": "stdout",
          "text": [
            "Nombre: José Edad: 18 Estatura: 1.7 Numero de cuenta: 212020202\n"
          ]
        }
      ]
    }
  ]
}