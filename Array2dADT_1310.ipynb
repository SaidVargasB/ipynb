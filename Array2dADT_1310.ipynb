{
  "nbformat": 4,
  "nbformat_minor": 0,
  "metadata": {
    "colab": {
      "name": "Array2dADT_1310.ipynb",
      "provenance": [],
      "authorship_tag": "ABX9TyPu/oeWUgIAGsYTXECx/1+I",
      "include_colab_link": true
    },
    "kernelspec": {
      "name": "python3",
      "display_name": "Python 3"
    },
    "language_info": {
      "name": "python"
    }
  },
  "cells": [
    {
      "cell_type": "markdown",
      "metadata": {
        "id": "view-in-github",
        "colab_type": "text"
      },
      "source": [
        "<a href=\"https://colab.research.google.com/github/SaidVargasB/ipynb/blob/circleci-project-setup/Array2dADT_1310.ipynb\" target=\"_parent\"><img src=\"https://colab.research.google.com/assets/colab-badge.svg\" alt=\"Open In Colab\"/></a>"
      ]
    },
    {
      "cell_type": "code",
      "metadata": {
        "id": "1Bmu-ym-nOhs"
      },
      "source": [
        "class Array2DADT:\n",
        "    def __init__( self , ren , col ):\n",
        "        self.__pollo = [ [ 0 for y in range(col) ] for x in range(ren) ]\n",
        "           \n",
        "    def clear( self , dato ):\n",
        "        self.__pollo = [ [ dato for y in range(self.get_col_size()) ] for x in range(self.get_row_size()) ]    \n",
        "    \n",
        "    def get_row_size( self ):   #Longitud\n",
        "        return len( self.__pollo )\n",
        "\n",
        "    def get_col_size( self ):\n",
        "        return len( self.__pollo[0] )\n",
        "\n",
        "    def set_item( self , ren , col , dato ):\n",
        "        self.__pollo[ren][col] = dato\n",
        "\n",
        "    def get_item( self , ren , col ):\n",
        "        return self.__pollo[ren][col]\n",
        "\n",
        "    def to_string( self ):\n",
        "        cadena = \"\"\n",
        "        for renglon in self.__pollo:\n",
        "            cadena = cadena + \"|\"\n",
        "            for dato in renglon:\n",
        "                    cadena = cadena + str(dato) + \" | \"\n",
        "            cadena  = cadena + \"\\n\"\n",
        "        return cadena\n",
        " "
      ],
      "execution_count": 1,
      "outputs": []
    },
    {
      "cell_type": "code",
      "metadata": {
        "colab": {
          "base_uri": "https://localhost:8080/"
        },
        "id": "5S__wEuRoaxp",
        "outputId": "7c6ad469-fc66-4524-d423-9f81d6627742"
      },
      "source": [
        "a2d = Array2DADT( 3 , 6 )\n",
        "print(f\"Renglones :  {a2d.get_row_size()}\")\n",
        "print(f\"Columnas :  {a2d.get_col_size()}\")\n",
        "print(a2d.to_string())\n",
        "print(\"\")\n",
        "a2d.clear(\"M\")\n",
        "print(a2d.to_string())\n",
        "\n",
        "a2d.set_item(2,3,'p')\n",
        "print(a2d.to_string())\n",
        "print(a2d.get_item( 2 , 3 ))"
      ],
      "execution_count": 2,
      "outputs": [
        {
          "output_type": "stream",
          "name": "stdout",
          "text": [
            "Renglones :  3\n",
            "Columnas :  6\n",
            "|0 | 0 | 0 | 0 | 0 | 0 | \n",
            "|0 | 0 | 0 | 0 | 0 | 0 | \n",
            "|0 | 0 | 0 | 0 | 0 | 0 | \n",
            "\n",
            "\n",
            "|M | M | M | M | M | M | \n",
            "|M | M | M | M | M | M | \n",
            "|M | M | M | M | M | M | \n",
            "\n",
            "|M | M | M | M | M | M | \n",
            "|M | M | M | M | M | M | \n",
            "|M | M | M | p | M | M | \n",
            "\n",
            "p\n"
          ]
        }
      ]
    },
    {
      "cell_type": "code",
      "metadata": {
        "id": "J0-CjGmuUWTS"
      },
      "source": [
        "\"\"\"\n",
        "Los datos iniciales como lo son:\n",
        "1.- Tamaño de la poblacion (ren y cols)\n",
        "2.- La poblacion inicial\n",
        "3.- En número de generaciones a simular\n",
        "\n",
        "Estaran proporciones por un archivo de entrada separado por comas (CSV)\n",
        "\n",
        "5\n",
        "5\n",
        "0,0,0,0,0\n",
        "0,0,1,0,0\n",
        "0,1,1,1,0\n",
        "0,0,0,0,0\n",
        "0,0,0,0,0\n",
        "10\n",
        "\n",
        "\"\"\"\n",
        "class JuegoDeLaVida:\n",
        "    def __init__( self , ruta_archivo ):  #Constructor\n",
        "        self.rens = None\n",
        "        self.cols = None\n",
        "        self.tablero = None\n",
        "        self.generaciones = None\n",
        "        self.read_game_data( ruta_archivo )\n",
        "    \n",
        "    def read_game_data( self , archivo ): #Toma el archivo\n",
        "        archivo = open(archivo , 'rt') #Lee el archivo\n",
        "        lineas = archivo.readlines()\n",
        "        for index in range(len(lineas)):\n",
        "            lineas[index] = lineas[index].strip() #.strip quitqa espacios y saltos de linea de enfrente y atras\n",
        "        #print(lineas)\n",
        "        self.rens = int( lineas[0] )\n",
        "        self.cols = int( lineas[1] )\n",
        "        self.tablero = Array2DADT(self.rens , self.cols)\n",
        "        print(f\"{self.tablero.get_row_size()} {self.tablero.get_col_size()}\")\n",
        "        r = 0\n",
        "        c = 0\n",
        "        print( lineas )\n",
        "        for index in range( 2, 2 + self.rens , 1 ):\n",
        "            c=0\n",
        "            for dato in lineas[index].split(','):\n",
        "                self.tablero.set_item( r , c , int(dato) ) \n",
        "                c += 1\n",
        "            r +=1\n",
        "        \n",
        "        self.generaciones = int( lineas [ - 1 ])\n",
        "        print(\" Gens: \", self.generaciones)\n",
        "        \n",
        "        print(self.tablero.to_string())\n",
        "\n",
        "    def get_vecinos( self , r , c):\n",
        "        vecinos = []\n",
        "        for ren in range( r-1 , r+2 , 1 ):\n",
        "            for col in range(c-1 , c+2 , 1):\n",
        "                if ren < 0 or ren >= self.tablero.get_row_size() or col < 0 or col >= self.tablero.get_col_size() or (ren==r and col==c):\n",
        "                    pass\n",
        "                else:\n",
        "                    vecinos.append((ren,col))\n",
        "        return vecinos\n",
        "\n",
        "    def get_vecinos_vivos( self , r , c ):\n",
        "        vecinos = self.get_vecinos(r , c)\n",
        "        vivos = 0\n",
        "        for par in vecinos:\n",
        "            if self.tablero.get_item( par[0] , par[1] ) == 1:\n",
        "                vivos += 1\n",
        "        return vivos\n",
        "\n",
        "    def calcular_siguiente( self ):\n",
        "        nueva_gen = Array2DADT(self.rens , self.cols )\n",
        "    #Aplicar 4 reglas a cada celula y el resultaado ponerlo en una nueva generacion\n",
        "        for ren in range( self.rens ):\n",
        "              if ren == '1':\n",
        "                    if ren == '1':\n",
        "                         if vivos == 2 or vivos == 3:\n",
        "                            nueva_gen.append('1')\n",
        "                    elif vivos == 1 or vivos == 0:\n",
        "                            nueva_gen.append('0')\n",
        "                    elif vivos >= 4 :\n",
        "                            nueva_gen.append('0')\n",
        "                    elif ren == '0':\n",
        "                            if vivos == 3 :\n",
        "                                nueva_gen.append('1')\n",
        "                            else:\n",
        "                                 nueva_gen.append('0')\n",
        "\n",
        "        for col in range( self.cols ):\n",
        " \n",
        "                    if col == '1':\n",
        "                         if vivos == 2 or vivos == 3:\n",
        "                            nueva_gen.append('1')\n",
        "                    elif vivos == 1 or vivos == 0:\n",
        "                            nueva_gen.append('0')\n",
        "                    elif vivos >= 4 :\n",
        "                            nueva_gen.append('0')\n",
        "                    elif col == '0':\n",
        "                            if vivos == 3 :\n",
        "                                nueva_gen.append('1')\n",
        "                            else:\n",
        "                                 nueva_gen.append('0')\n",
        "\n",
        "            #print(f\"{ren},{col} --> {self.get_vecinos_vivos(ren,col)}\" , end=\" | \")\n",
        "        #print(\"\")  #Quitar los prints por if while for lo que sea\n",
        "        self.tablero = nueva_gen\n"
      ],
      "execution_count": 3,
      "outputs": []
    },
    {
      "cell_type": "code",
      "metadata": {
        "colab": {
          "base_uri": "https://localhost:8080/",
          "height": 381
        },
        "id": "46AUptDNW1nE",
        "outputId": "69e04051-7aec-4cd0-c625-58abd095a4d9"
      },
      "source": [
        "juego = JuegoDeLaVida( \"entrada.txt\" )\n",
        "juego.calcular_siguiente()\n",
        "\n"
      ],
      "execution_count": 4,
      "outputs": [
        {
          "output_type": "stream",
          "name": "stdout",
          "text": [
            "7 7\n",
            "['7', '7', '0,0,0,0,0', '0,0,1,0,0', '0,1,1,1,0', '0,0,0,0,0', '0,0,0,0,0', '11']\n"
          ]
        },
        {
          "output_type": "error",
          "ename": "IndexError",
          "evalue": "ignored",
          "traceback": [
            "\u001b[0;31m---------------------------------------------------------------------------\u001b[0m",
            "\u001b[0;31mIndexError\u001b[0m                                Traceback (most recent call last)",
            "\u001b[0;32m<ipython-input-4-a3b202592871>\u001b[0m in \u001b[0;36m<module>\u001b[0;34m()\u001b[0m\n\u001b[0;32m----> 1\u001b[0;31m \u001b[0mjuego\u001b[0m \u001b[0;34m=\u001b[0m \u001b[0mJuegoDeLaVida\u001b[0m\u001b[0;34m(\u001b[0m \u001b[0;34m\"entrada.txt\"\u001b[0m \u001b[0;34m)\u001b[0m\u001b[0;34m\u001b[0m\u001b[0;34m\u001b[0m\u001b[0m\n\u001b[0m\u001b[1;32m      2\u001b[0m \u001b[0mjuego\u001b[0m\u001b[0;34m.\u001b[0m\u001b[0mcalcular_siguiente\u001b[0m\u001b[0;34m(\u001b[0m\u001b[0;34m)\u001b[0m\u001b[0;34m\u001b[0m\u001b[0;34m\u001b[0m\u001b[0m\n\u001b[1;32m      3\u001b[0m \u001b[0;34m\u001b[0m\u001b[0m\n",
            "\u001b[0;32m<ipython-input-3-a523ccec92a5>\u001b[0m in \u001b[0;36m__init__\u001b[0;34m(self, ruta_archivo)\u001b[0m\n\u001b[1;32m     23\u001b[0m         \u001b[0mself\u001b[0m\u001b[0;34m.\u001b[0m\u001b[0mtablero\u001b[0m \u001b[0;34m=\u001b[0m \u001b[0;32mNone\u001b[0m\u001b[0;34m\u001b[0m\u001b[0;34m\u001b[0m\u001b[0m\n\u001b[1;32m     24\u001b[0m         \u001b[0mself\u001b[0m\u001b[0;34m.\u001b[0m\u001b[0mgeneraciones\u001b[0m \u001b[0;34m=\u001b[0m \u001b[0;32mNone\u001b[0m\u001b[0;34m\u001b[0m\u001b[0;34m\u001b[0m\u001b[0m\n\u001b[0;32m---> 25\u001b[0;31m         \u001b[0mself\u001b[0m\u001b[0;34m.\u001b[0m\u001b[0mread_game_data\u001b[0m\u001b[0;34m(\u001b[0m \u001b[0mruta_archivo\u001b[0m \u001b[0;34m)\u001b[0m\u001b[0;34m\u001b[0m\u001b[0;34m\u001b[0m\u001b[0m\n\u001b[0m\u001b[1;32m     26\u001b[0m \u001b[0;34m\u001b[0m\u001b[0m\n\u001b[1;32m     27\u001b[0m     \u001b[0;32mdef\u001b[0m \u001b[0mread_game_data\u001b[0m\u001b[0;34m(\u001b[0m \u001b[0mself\u001b[0m \u001b[0;34m,\u001b[0m \u001b[0marchivo\u001b[0m \u001b[0;34m)\u001b[0m\u001b[0;34m:\u001b[0m \u001b[0;31m#Toma el archivo\u001b[0m\u001b[0;34m\u001b[0m\u001b[0;34m\u001b[0m\u001b[0m\n",
            "\u001b[0;32m<ipython-input-3-a523ccec92a5>\u001b[0m in \u001b[0;36mread_game_data\u001b[0;34m(self, archivo)\u001b[0m\n\u001b[1;32m     40\u001b[0m         \u001b[0;32mfor\u001b[0m \u001b[0mindex\u001b[0m \u001b[0;32min\u001b[0m \u001b[0mrange\u001b[0m\u001b[0;34m(\u001b[0m \u001b[0;36m2\u001b[0m\u001b[0;34m,\u001b[0m \u001b[0;36m2\u001b[0m \u001b[0;34m+\u001b[0m \u001b[0mself\u001b[0m\u001b[0;34m.\u001b[0m\u001b[0mrens\u001b[0m \u001b[0;34m,\u001b[0m \u001b[0;36m1\u001b[0m \u001b[0;34m)\u001b[0m\u001b[0;34m:\u001b[0m\u001b[0;34m\u001b[0m\u001b[0;34m\u001b[0m\u001b[0m\n\u001b[1;32m     41\u001b[0m             \u001b[0mc\u001b[0m\u001b[0;34m=\u001b[0m\u001b[0;36m0\u001b[0m\u001b[0;34m\u001b[0m\u001b[0;34m\u001b[0m\u001b[0m\n\u001b[0;32m---> 42\u001b[0;31m             \u001b[0;32mfor\u001b[0m \u001b[0mdato\u001b[0m \u001b[0;32min\u001b[0m \u001b[0mlineas\u001b[0m\u001b[0;34m[\u001b[0m\u001b[0mindex\u001b[0m\u001b[0;34m]\u001b[0m\u001b[0;34m.\u001b[0m\u001b[0msplit\u001b[0m\u001b[0;34m(\u001b[0m\u001b[0;34m','\u001b[0m\u001b[0;34m)\u001b[0m\u001b[0;34m:\u001b[0m\u001b[0;34m\u001b[0m\u001b[0;34m\u001b[0m\u001b[0m\n\u001b[0m\u001b[1;32m     43\u001b[0m                 \u001b[0mself\u001b[0m\u001b[0;34m.\u001b[0m\u001b[0mtablero\u001b[0m\u001b[0;34m.\u001b[0m\u001b[0mset_item\u001b[0m\u001b[0;34m(\u001b[0m \u001b[0mr\u001b[0m \u001b[0;34m,\u001b[0m \u001b[0mc\u001b[0m \u001b[0;34m,\u001b[0m \u001b[0mint\u001b[0m\u001b[0;34m(\u001b[0m\u001b[0mdato\u001b[0m\u001b[0;34m)\u001b[0m \u001b[0;34m)\u001b[0m\u001b[0;34m\u001b[0m\u001b[0;34m\u001b[0m\u001b[0m\n\u001b[1;32m     44\u001b[0m                 \u001b[0mc\u001b[0m \u001b[0;34m+=\u001b[0m \u001b[0;36m1\u001b[0m\u001b[0;34m\u001b[0m\u001b[0;34m\u001b[0m\u001b[0m\n",
            "\u001b[0;31mIndexError\u001b[0m: list index out of range"
          ]
        }
      ]
    },
    {
      "cell_type": "code",
      "metadata": {
        "id": "urN8dmmdsKHi"
      },
      "source": [
        "\"\"\"\n",
        "- Lee los datos desde un archivo (.txt o .csv)  ####LISTO\n",
        "- Tiene al menos dos archivos de entrada (entrada.txt y otros). \n",
        "  Con diferente tamaño del tablero:\n",
        "  --renglones tamaño minimo de 6\n",
        "  --columnas con tamaño minimo de 7\n",
        "  Diferente numero de generaciones a calcular, como minimo 11\n",
        "  Debe tener una población inicial de al menos 6 celulas vivas.\n",
        "- Tiene un codigo de ejecución y muestra todas las generaciones en la salida ( terminal)\n",
        "- Debe contener instrucciones de ejecución en caso que se haya desarrollado fuera de colab.research.google.com.\n",
        "\"\"\""
      ],
      "execution_count": null,
      "outputs": []
    }
  ]
}